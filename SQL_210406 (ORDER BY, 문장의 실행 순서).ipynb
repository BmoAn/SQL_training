{
 "cells": [
  {
   "cell_type": "markdown",
   "metadata": {},
   "source": [
    "## ORDER BY 절\n",
    "\n",
    "ORDER BY 절은 SQL문장으로 조회된 데이터들을 다양한 목적에 맞게 특정 칼럼을 기준으로 정렬하여 출력하는데 사용한다.\n",
    "\n",
    "✅ ORDER BY 절에 칼럼명 대신에 SELECT 절에서 사용한 ALIAS명이나 칼럼 순서를 나타내는 정수도 사용 가능함.\n",
    "\n",
    "✅ 별도로 정렬 방식을 지정하지 않으면 기본적으로 오름차순 적용됨\n",
    "\n",
    "✅ ORDER BY 절은 SQL 문장의 제일 마지막에 위치함\n",
    "\n",
    "✅ ORACLE은 NULL값을 가장 큰 값으로 취급하여 내림차순 정렬 시 제일 앞에 위치하는 특성이 있다. (SQL server는 반대)\n",
    "\n",
    "✅ 날짜형 데이터 타입은 오름차순으로 정렬했을 때 가장 빠른 값이 먼저 출력된다.\n",
    "\n",
    "\n",
    "✅한 개의 칼럼이 아닌 여러가지 칼럼을 기준으로 정렬할 수 있다.\n",
    "\n",
    "ex) ORDER BY HEIGHT DESC, BACK_NO; → 키를 기준으로 내림차순 정렬 후 키가 같은 경우 백넘버를 기준으로 재정렬한다.\n",
    "\n",
    "---"
   ]
  },
  {
   "cell_type": "markdown",
   "metadata": {},
   "source": [
    "## 문장의 실행 순서"
   ]
  },
  {
   "cell_type": "code",
   "execution_count": null,
   "metadata": {},
   "outputs": [],
   "source": [
    "5. SELECT\n",
    "1. FROM\n",
    "2. WHERE\n",
    "3. GROUP BY\n",
    "4. HAVING\n",
    "6. ORDER BY COLUMN/ALIAS/정수 ASC or DESC;\n",
    "\n",
    "# ASC  : 오름차순 정렬(DEFAULT 값)\n",
    "# DESC : 내림차순 정렬"
   ]
  },
  {
   "cell_type": "markdown",
   "metadata": {},
   "source": [
    "1. 발췌 대상 테이블을 참조한다.(FROM)\n",
    "2. 발췌 대상 데이터가 아닌 것은 제거한다.(WHERE)\n",
    "3. 행들을 소그룹화 한다.(WHERE)\n",
    "4. 그룹핑된 값의 조건에 맞는 것만을 출력한다.(HAVING)\n",
    "5. 데이터 값을 출력/계산한다.(SELECT)\n",
    "6. 데이터를 정렬한다.(ORDER BY)\n",
    "\n",
    "---"
   ]
  },
  {
   "cell_type": "code",
   "execution_count": null,
   "metadata": {},
   "outputs": [],
   "source": [
    "# ✅ 가능한 케이스\n",
    "SELECT EMPNO, ENAME\n",
    "FROM EMP\n",
    "ORDER BY MGR;"
   ]
  },
  {
   "cell_type": "markdown",
   "metadata": {},
   "source": [
    "FROM 절에 정의되지 않는 테이블의 칼럼을 다른 절에서 사용하면 에러가 발생하지만,\n",
    "\n",
    "ORDER BY 절에서는 SELECT 목록에 나타나지 않은 문자형 항목이 포함될 수 있다!\n",
    "\n",
    "관계형 데이터베이스가 데이터를 메모리에 올릴 떄 행 단위로 모든 칼럼을 가지고 오기 때문이다.\n",
    "\n",
    "(SELECT 절에서 일부 칼럼만 선택하더라도 ORDER BY절에서 메모리에 올라와있는 다른 칼럼의 데이터를 사용 가능하기 때문!)\n",
    "\n",
    "---"
   ]
  },
  {
   "cell_type": "code",
   "execution_count": null,
   "metadata": {},
   "outputs": [],
   "source": [
    "# ❌ 불가능한 케이스\n",
    "SELECT JOB, SAL\n",
    "FROM EMP\n",
    "GROUP BY JOB\n",
    "HAVING COUNT(*) > 0\n",
    "ORDER BY SAL;"
   ]
  },
  {
   "cell_type": "markdown",
   "metadata": {},
   "source": [
    "GROUP BY 절을 사용하게 되면 그룹핑 기준에 사용된 칼럼과 집계 함수에 사용될 수 있는 숫자형 데이터 칼럼들의 집합을 새로 만드는데,\n",
    "\n",
    "개별 데이터는 필요 없으므로 저장하지 않아  SELECT절에나 ORDER BY 절에서 개별데이터를 사용하는 경우 에러가 발생한다.\n",
    "\n",
    "결과 : SELECT절에서는 그룹핑 기준과 숫자 형식 칼럼의 집계 함수를 사용할 수 있지만 그룹핑 기준 외의 문자 형식 칼럼은 정할 수 없다."
   ]
  },
  {
   "cell_type": "markdown",
   "metadata": {},
   "source": [
    "## TOP N 쿼리\n",
    "ORACLE에서 순위가 높은 n개의 ROW를 추출하는 방법"
   ]
  },
  {
   "cell_type": "code",
   "execution_count": null,
   "metadata": {},
   "outputs": [],
   "source": [
    "SELECT ENAME, SAL\n",
    "FROM (SELECT ENAME, SAL\n",
    "      FROM EMP\n",
    "     ORDER BY SAL DESC)\n",
    "WHERE ROWNUM <4;"
   ]
  },
  {
   "cell_type": "markdown",
   "metadata": {},
   "source": [
    "인라인 뷰를 사용하여 추출하고자 하는 집합을 정렬한 후 ROWNUM을 적용시킴으로써 결과에 참여하는 순서와 추출되는 로우순서를 일치시켰다.\n",
    "\n",
    "그리고 이를 통해 TOP N쿼리의 결과를 만들어냈다.\n",
    "\n",
    "* SQL server는 TOP 조건을 사용하게 되면 별도 처리 없이 쉽게 출력할 수 있다."
   ]
  },
  {
   "cell_type": "code",
   "execution_count": null,
   "metadata": {},
   "outputs": [],
   "source": []
  }
 ],
 "metadata": {
  "kernelspec": {
   "display_name": "Python 3",
   "language": "python",
   "name": "python3"
  },
  "language_info": {
   "codemirror_mode": {
    "name": "ipython",
    "version": 3
   },
   "file_extension": ".py",
   "mimetype": "text/x-python",
   "name": "python",
   "nbconvert_exporter": "python",
   "pygments_lexer": "ipython3",
   "version": "3.8.5"
  }
 },
 "nbformat": 4,
 "nbformat_minor": 4
}
