{
 "cells": [
  {
   "cell_type": "markdown",
   "metadata": {},
   "source": [
    "## 집계함수 (Aggregate Function)\n",
    "여러 행들의 그룹이 모여서 그룹당 단 하나의 결과를 돌려주는 다중행 함수 중 '집계함수'\n",
    "- 여러 행들의 그룹이 모여서 그룹당 단 하나의 결과를 돌려주는 함수이다.\n",
    "- GROUP BY 절은 행들을 소그룹화한다.\n",
    "- SELECT 절, HAVING 절, ORDER BY절에 사용할 수 있다.\n",
    "\n",
    "#### 집계함수의 종류\n",
    "- COUNT(*) : NULL값을 포함한 행의 수를 출력한다.\n",
    "- COUNT(표현식) : 표현식의 값이 NULL값인 것을 제외한 행의 수를 출력한다.\n",
    "- SUM([DISTINCT | ALL] 표현식) : 표현식의 NULL값을 제외한 합계를 출력한다.\n",
    "- AVG([DISTINCT | ALL] 표현식) : 표현식의 NULL값을 제외한 평균를 출력한다.\n",
    "- MAX([DISTINCT | ALL] 표현식) : 표현식의 최대값을 출력한다.(문자, 날짜 데이터 타입도 사용이 가능하다.)\n",
    "- MIN([DISTINCT | ALL] 표현식) : 표현식의 최소값을 출력한다.(문자, 날짜 데이터 타입도 사용이 가능하다.)\n",
    "- STDDEV([DISTINCT | ALL] 표현식) : 표현식의 표준 편차를 출력한다.\n",
    "- VARIAN([DISTINCT | ALL] 표현식) : 표현식의 분산을 출력한다.\n",
    "##### - 이 외에도 벤더별로 제공하는 다양한 통계식이 존재한다.\n",
    "##### - DEFAULT : ALL \n",
    "##### - DISTINCT : 같은 값을 하나의 데이터로 간주할 때 사용하는 옵션"
   ]
  },
  {
   "cell_type": "markdown",
   "metadata": {},
   "source": [
    "## GROUP BY 절\n",
    "FROM 절과 WHERE절 뒤에 오며 데이터들을 작은 그룹으로 분류하여 소그룹에 대한 항목별로 통계 정보를 얻을 떄 추가로 사용된다."
   ]
  },
  {
   "cell_type": "code",
   "execution_count": null,
   "metadata": {},
   "outputs": [],
   "source": [
    "SELECT [DISTINCT] 칼럼명 [ALIAS명]\n",
    "FROM 테이블명\n",
    "[WHERE 조건식]\n",
    "[GROUP BY 칼럼이나 표현식]\n",
    "[HAVING 그룹 조건식]"
   ]
  },
  {
   "cell_type": "markdown",
   "metadata": {},
   "source": [
    "- GROUP BY 절을 통해 소그룹별 기준을 정한 후 SELECT절에 집계함수를 사용한다. → 그룹 단위를 표시해 주지 않으면 에러가 발생한다.\n",
    "- 집계함수의 통계정보는 NULL값을 가진 행을 제외하고 수행한다.\n",
    "- GROUP BY 절에서는 ALIAS명을 사용할 수 없다.\n",
    "- 집계 함수는 WHERE 절에는 올 수 없다.\n",
    "- WHERE 절은 전체 데이터를 GROUP으로 나누기 전에 행들을 미리 제거시킨다.\n",
    "- HAVING 절은 GROUP BY 절의 기준 항목이나 소그룹의 집계 함수를 이용한 조건을 표시할 수 있다.\n",
    "- GROUP BY  절에 의한 소그룹별로 만들어진 집계 데이터 중 HAVING 절에서 제한 조건을 두어 조건을 만족하는 내용만 출력한다.\n",
    "- HAVING 절은 일반적으로 GROUP BY절 뒤에 위치한다."
   ]
  },
  {
   "cell_type": "markdown",
   "metadata": {},
   "source": [
    "## HAVING 절\n",
    "HAVING 절은 WHERE절과 비슷하지만 그룹을 나타내는 결과 집합의 행에 조건이 적용된다는 점에서 차이가 있다."
   ]
  },
  {
   "cell_type": "code",
   "execution_count": null,
   "metadata": {},
   "outputs": [],
   "source": [
    "SELECT\n",
    "FROM\n",
    "GROUP BY POSITION\n",
    "WHERE AVG(HEIGHT) >= 180; \n",
    "# 집계함수 사용 불가 오류 출력"
   ]
  },
  {
   "cell_type": "code",
   "execution_count": null,
   "metadata": {},
   "outputs": [],
   "source": [
    "SELECT\n",
    "FROM\n",
    "GROUP BY POSITION\n",
    "HAVING AVG(HEIGHT) >= 180;\n",
    "# 결과 출력에 이상 없으며 GROUP BY와 HAVING의 순서를 바꾸어도 정상적으로 출력됨. \n",
    "# 하지만 논리 구조상 다음과 같이 GROUP BY,HAVING의 순서 사용을 권고!"
   ]
  },
  {
   "cell_type": "markdown",
   "metadata": {},
   "source": [
    "GROUP BY 소그룹의 데이터 중 일부만 필요한 경우 \n",
    "1. GROUP BY 연산 전 WHERE절에서 먼저 추출 \n",
    "→ ✅ GROUP BY의 계산 대상을 줄이는 효율적인 자원 사용방법!\n",
    "2. GROUP BY 연산 후 HAVING절에서 필요 데이터 필터링"
   ]
  },
  {
   "cell_type": "markdown",
   "metadata": {},
   "source": [
    "#### CASE 표현을 활용한 월별 데이터 집계\n",
    "모델링의 제1정규화로 인해 반복되는 칼럼의 경우 구분 칼럼을 두고 여러개의 레코드로 만들어진 집합을 정해진 칼럼 수만큼 확장해서 집계 보고서를 만드는 유용한 기법이다."
   ]
  }
 ],
 "metadata": {
  "kernelspec": {
   "display_name": "Python 3",
   "language": "python",
   "name": "python3"
  },
  "language_info": {
   "codemirror_mode": {
    "name": "ipython",
    "version": 3
   },
   "file_extension": ".py",
   "mimetype": "text/x-python",
   "name": "python",
   "nbconvert_exporter": "python",
   "pygments_lexer": "ipython3",
   "version": "3.8.5"
  }
 },
 "nbformat": 4,
 "nbformat_minor": 4
}
