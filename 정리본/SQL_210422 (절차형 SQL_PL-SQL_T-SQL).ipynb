{
 "cells": [
  {
   "cell_type": "markdown",
   "metadata": {},
   "source": [
    "## 절차형 SQL\n",
    "SQL문의 연속적인 실행이나 조건에 따른 분기처리를 이용하여 특정 기능을 수행하는 저장 모듈을 생성할 수 있다."
   ]
  },
  {
   "cell_type": "markdown",
   "metadata": {},
   "source": [
    "## 1. PL/SQL \n",
    "Block 구조로 되어있고 Block 내에는 DML 문장과 QUERY 문장, 절차형 언어(IF,LOOP)등을 사용할 수 있으며,    \n",
    "절차적 프로그래밍을 가능하게 하는 트랜잭션 언어이다. → 다양한 저장모듈(Stored Module)을 개발할 수 있다.\n",
    "\n",
    "＊저장 모듈 : PL/SQL 문장을 DB 서버에 저장하여 USER와 APP 사이에서 공유할 수 있도록 만든 일종의 SQL 컴포넌트 프로그램\n",
    "\n",
    "    (독립적으로 실행되거나 다른 프로그램으로부터 실행될 수 있음)\n",
    "    \n",
    "#### 특징\n",
    "1. BLOCK 구조로 되어 있어 각 기능별로 모듈화가 가능하다.\n",
    "2. 변수, 상수 등을 선언하여 SQL 문장 간 값을 교환한다.\n",
    "3. IF,LOOP 등의 절차형 언어를 사용하여 절차적인 프로그램이 가능하도록 한다.\n",
    "4. DBMS 정의 에러나 사용자 정의 에러를 정의하여 사용할 수 있다.\n",
    "5. PL/SQL은 여러 SQL 문장을 BLOCK으로 묶고 한 번에 BLOCK 전부를 서버로 보내기 떄문에 통신량을 줄일 수 있다."
   ]
  },
  {
   "cell_type": "markdown",
   "metadata": {},
   "source": [
    "### BLOCK 구조 표현\n",
    "<img src=\"https://github.com/BmoAn/SQL_training/blob/master/image/%EB%B8%94%EB%A1%9D%EA%B5%AC%EC%A1%B0.jpg?raw=true\" width=\"40%\" height=\"40%\" title=\"BLOCK 구조\" alt=\"BLOCK 구조\"></img>"
   ]
  },
  {
   "cell_type": "markdown",
   "metadata": {},
   "source": [
    "### PL/SQL 기본문법 (SYNTAX)"
   ]
  },
  {
   "cell_type": "code",
   "execution_count": null,
   "metadata": {},
   "outputs": [],
   "source": [
    "CREATE [OR REPLACE] Procedure [Procedure_name]\n",
    "(arguments1 [mode] data_type1,\n",
    "arguments2 [made] date_type2,\n",
    "...  ...)\n",
    "IS [AS]\n",
    "... ...\n",
    "BEGIN\n",
    "... ...\n",
    "EXCEPTION \n",
    "... ...\n",
    "END;\n",
    "/\n",
    "\n",
    "# 생성된 프로시저를 삭제하는 명령어\n",
    "DROP Procedure [Procedure_name];"
   ]
  },
  {
   "cell_type": "markdown",
   "metadata": {},
   "source": [
    "- 프로시저는 개발자가 자주 실행해야 하는 로직을 절차적인 언어를 이용하여 작성한 프로그램 모듈이기 때문에 필요할 때 호출하여 실행할 수 있다.\n",
    "\n",
    "- [OR REPLACE] 절은 데이터베이스 내에 같은 이름의 프로시저가 있을 경우 기존의 프로시저를 무시하고 새로운 내용으로 덮어쓰기 하겠다는 의미다.\n",
    "\n",
    "- Argument는 프로시저가 호출될 때 프로시저 안으로 어떤 값이 들어오거나 혹은 프로시저에서 처리한 결과값을 운영 체제로 리턴시킬 매개 변수를 지정할 때 사용한다.\n",
    "\n",
    "- [mode]부분에 지정할 수 있는 매개 변수의 유형은 3가지가 있다. \n",
    "> 1. IN은 운영체제에서 프로시저로 전달될 변수의 MODE이다.\n",
    "> 2. OUT은 프로시저에서 처리된 결과가 운영체제로 전달되는 MODE이다.\n",
    "> 3. INOUT MODE는 두가지 기능을 동시에 수행하는 MODE이다.\n",
    "\n",
    "- 마지막에 있는 슬래쉬(/)는 데이터베이스에게 프로시저를 컴파일 하라는 명령어이다."
   ]
  },
  {
   "cell_type": "markdown",
   "metadata": {},
   "source": [
    "---\n",
    "## 2. T-SQL\n",
    "T-SQL은 근본적으로 SQL server를 제어하기 위한 언어로서, MS사에서 ANSI/ISO 표준의 SQL에 약간의 기능을 더 추가해 보완적으로 만든 것.\n",
    "\n",
    "- 변수선언기능 @@ 이라는 전역변수(시스템함수)와 @이라는 지역변수가 있다.\n",
    "- 지역변수는 사용자가 자신의 연결 시간 동안만 사용하기 위해 만들어지는 변수이며 전역변수는 이미 SQL서버에 내장된 값이다.\n",
    "- 데이터 유형(DATA TYPE)을 제공한다. 즉 int, float, varchar등의 자료형을 의미한다.\n",
    "- 연산자(Operateor) 산술연산자(+,-,＊,/)와 비교연산자(=,<,>,<>), 논리연산자(and, or, not)사용이 가능하다.\n",
    "- 흐름제어 기능 IF-ELSE와 WHILE, CASE-THEN 사용이 가능하다.\n",
    "- 주석기능\n",
    "> 한글 주석 : -- 뒤의 내용은 주석   \n",
    "> 범위 주석 : /＊ 내용 ＊/형태를 사용하며, 여러 줄도 가능함"
   ]
  },
  {
   "cell_type": "markdown",
   "metadata": {},
   "source": [
    "### T-SQL 구조 표현\n",
    "\n",
    "<img src=\"https://github.com/BmoAn/SQL_training/blob/master/image/T-SQL%EA%B5%AC%EC%A1%B0.jpg?raw=true\" width=\"50%\" height=\"50%\" title=\"T-SQL 구조\" alt=\"T-SQL 구조\"></img>"
   ]
  },
  {
   "cell_type": "markdown",
   "metadata": {},
   "source": [
    "### T-SQL 기본문법"
   ]
  },
  {
   "cell_type": "code",
   "execution_count": null,
   "metadata": {},
   "outputs": [],
   "source": [
    "CREATE Procedure [schema_name.]Procedure_name\n",
    "@parameter1 data_type1 [mode],\n",
    "@parameter2 data_type2 [mode],\n",
    "arguments2 [made] date_type2,\n",
    "...  ...)\n",
    "WITH\n",
    "AS\n",
    "... ...\n",
    "BEGIN\n",
    "... ...\n",
    "ERROR 처리\n",
    "... ...\n",
    "END;\n",
    "\n",
    "# 생성된 프로시저를 삭제하는 명령어\n",
    "DROP Procedure [schema_name.]Procedure_name;"
   ]
  },
  {
   "cell_type": "markdown",
   "metadata": {},
   "source": [
    "- 프로시저의 변경이 필요할 경우 oracle은 [CREATE OR REPLACE]와 같이 하나의 구문으로 처리한다.\n",
    "\n",
    "- @parameter는 프로시저가 호출될 때 프로시저 안으로 어떤 값이 들어오거나 혹은 프로시저에서 처리한 결과 값을 리턴 시킬 매개 변수를 지정할 때 사용한다.\n",
    "\n",
    "- [mode]부분에 지정할 수 있는 매개변수(@parameter)의 유형은 4가지가 있다.\n",
    "> 1. VARYING : 결과 집합이 출력 매개 변수로 사용되도록 지정한다. CURSOR 매개변수만 적용된다.   \n",
    "> 2. DEFAULT : 지정된 매개변수가 프로시저를 호출할 당시 지정되지 않을 경우 지정된 기본값으로 처리한다.   \n",
    "    > 즉 기본값이 지정되어 있으면 해당 매개 변수를 지정하지 않아도 프로시저가 지정된 기본 값으로 정상적으로 수행이 된다.   \n",
    "> 3. OUT, OUTPUT : 프로시저에서 처리된 결과 값을 EXECUTE 문 호출 시 반환한다.   \n",
    "> 4. READONLY : 프로시저 본문 내에서 매개 변수를 업데이트 하거나 수정할 수 없음을 나타낸다.   \n",
    "    > 매개변수 유형이 사용자 정의 테이블 형식인 경우 READONLY를 지정해야 한다.\n",
    "- WITH 부분에 지정할 수 있는 옵션은 3가지가 있다.\n",
    "> 1. RECOMPILE : 데이터베이스 엔진에서 현재 프로시저의 계획을 캐시하지 않고 프로시저가 런타임에 컴파일된다.   \n",
    "    >데이터베이스 엔진에서 저장 프로시저 안에 있는 개별 쿼리에 대한 계획을 삭제하려 할 때 RECOMPILE 쿼리 힌트를 사용한다.   \n",
    "> 2. ENCRYPTION : CREATE PROCEDURE 문의 원본 텍스트가 알아보기 어려운 형식으로 변환된다.   \n",
    "    > 변조된 출력은 SQL Server의 카탈로그 뷰 어디에서도 직접 표시되지 않고 원본을 볼 수 있는 방법이 없기 떄문에 반드시 백업해둬야한다.   \n",
    "> 3. EXECUTE AS : 해당 저장 프로시저를 실행할 보안 컨택스트를 지정한다.\n",
    "\n",
    "＊이 외에도 T-SQL과 관련된 내용은 상당히 다양하고 분량이 많기 때문에 여기서는 간단한 문법과 사용 목적에 초점을 맞추어 서술!"
   ]
  }
 ],
 "metadata": {
  "kernelspec": {
   "display_name": "Python 3",
   "language": "python",
   "name": "python3"
  },
  "language_info": {
   "codemirror_mode": {
    "name": "ipython",
    "version": 3
   },
   "file_extension": ".py",
   "mimetype": "text/x-python",
   "name": "python",
   "nbconvert_exporter": "python",
   "pygments_lexer": "ipython3",
   "version": "3.8.5"
  }
 },
 "nbformat": 4,
 "nbformat_minor": 4
}
