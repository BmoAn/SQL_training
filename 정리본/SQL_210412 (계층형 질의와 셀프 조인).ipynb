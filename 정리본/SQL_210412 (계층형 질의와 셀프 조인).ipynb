{
 "cells": [
  {
   "cell_type": "markdown",
   "metadata": {},
   "source": [
    "## 계층형 질의\n",
    "테이블에 계층형 데이터가 존재하는 경우 데이터를 조회하기 위해 사용\n",
    "    ＊ 계층형 데이터 : 동일 테이블에 계층적으로 상위와 하위 데이터가 포함된 데이터\n",
    "\n",
    "---\n",
    "\n",
    "START WITH : 계층 구조 전개의 시작 위치를 지정하는 구문(루트 데이터 지정)\n",
    "\n",
    "CONNECT BY : 다음에 전개될 자식 데이터를 지정하는 구문 (자식 데이터는 해당 절 조건에 만족해야한다)\n",
    "\n",
    "PRIOR 자식 = 부모 : 자식 데이터에서 부모 데이터 방향으로 전개하는 순방향 전개\n",
    "\n",
    "PRIOR 부모 = 자식 : 부모 데이터에서 자식 데이터 방향으로 전개하는 역방향 전개\n",
    "\n",
    "NOCYCLE : 이미 나타났던 데이터가 전개 중에 다시 나타나는 CYCLE → 런타임 오류 발생 → 이 옵션 사용시 사이클 이후의 데이터는 전개하지 않음\n",
    "\n",
    "ORDER CIBLINGS BY : 동인한 LEVEL 사이에서 정렬을 수행한다.\n",
    "\n",
    "WHERE : 모든 전개를 수행한 후에 지정된 조건을 만족하는 데이터만 추출(필터링)\n",
    "\n",
    "---\n",
    "\n",
    "ORACLE은 계층형 질의를 사용할 때 다음과 같은 가상 칼럼(Pseudo Column)을 제공한다\n",
    "\n",
    " - LEVEL :  루트 데이터면 1, 그 하위 데이터이면 2이다. LEAF 데이터까지 1씩 증가한다.\n",
    " - CONNECT_BY_ISLEAF : 전개 과정에서 해당 데이터가 리프 데이터면 1, 그렇지 않으면 0이다.\n",
    " - CONNECT_BY_ISCYCLE : 전개 과정에서 자식을 갖는데, 해달 데이터가 조상으로서 존재하면 1, 그렇지 않으면 0이다.\n",
    " \n",
    "     → 조상이란 자신으로부터 루트까지의 경로에 존재하는 데이터를 말하며 CYCLE 옵션을 사용했을 때만 사용할 수 있다.\n",
    "     "
   ]
  },
  {
   "cell_type": "code",
   "execution_count": null,
   "metadata": {},
   "outputs": [],
   "source": [
    "# 순방향 계층형 질의 결과 출력\n",
    "SELECT LEVEL, 사원, 관리자, CONNECT_BY_ISLEAF ISLEAF\n",
    "FROM 사원 START WITH 관리자 IS NULL\n",
    "CONNECT BY PRIOR 사원 = 관리자;"
   ]
  },
  {
   "cell_type": "code",
   "execution_count": null,
   "metadata": {},
   "outputs": [],
   "source": [
    "# 역방향 계층형 질의 결과 출력\n",
    "SELECT LEVEL, 사원, 관리자, CONNECT_BY_ISLEAF ISLEAF\n",
    "FROM 사원 START WITH 사원 = 'D'\n",
    "CONNECT BY PRIOR 관리자 = 사원;"
   ]
  },
  {
   "cell_type": "markdown",
   "metadata": {},
   "source": [
    "ORACLE은 계층형 질의를 사용할 때 사용자 편의성을 제공하기 위해서 아래와 같은 함수를 제공한다.\n",
    "- SYS_CONNECT_BY_PATH : 루트 데이터부터 현재 전개할 데이터까지의 경로를 표시한다.\n",
    "- CONNECT_BY_ROOT : 현재 전개할 데이터의 루트 데이터를 표시한다. (단항 연산자이다)"
   ]
  },
  {
   "cell_type": "code",
   "execution_count": null,
   "metadata": {},
   "outputs": [],
   "source": [
    "SELECT CONNECT_BY_ROOT 사원 루트사원, SYS_CONNECT_BY_PATH(사원,'/') 경로, 사원, 관리자\n",
    "FROM 사원\n",
    "START WITH 관리자 IS NULL\n",
    "CONNECT BY PRIOR 사원 = 관리자"
   ]
  },
  {
   "cell_type": "markdown",
   "metadata": {},
   "source": [
    "##  셀프조인\n",
    "셀프조인이란 동일 테이블 사이의 조인을 말한다. 따라서 FROM 절에 동일 테이블이 두 번 이상 나타난다.\n",
    "\n",
    "동일한 테이블 이지만 개념적으로는 두 개의 서로 다른 테이블을 사용하는 것과 동일하다.\n",
    "\n",
    "→ 동일 테이블 사이의 조인을 수행하면 테이블과 칼럼 이름이 모두 동일하기 떄문에 식별을 위해 반드시 별칭(ALIAS)을 사용해야 한다."
   ]
  },
  {
   "cell_type": "code",
   "execution_count": null,
   "metadata": {},
   "outputs": [],
   "source": [
    "SELECT ALIAS명1.칼럼명 ALIAS명2.칼럼명, ...\n",
    "FROM 테이블1 ALIAS명1, 테이블2 ALIAS명2\n",
    "WHERE ALIAS명1.칼럼명2 = ALIAS명2.칼럼명1;"
   ]
  },
  {
   "cell_type": "code",
   "execution_count": null,
   "metadata": {},
   "outputs": [],
   "source": [
    "SELECT WORKER.ID 사원번호, WORKER.NAME 사원명, MANAGER.NAME 관리자명\n",
    "FROM EMP WORKER, EMP MANAGER\n",
    "WHERE WORKER.MGR = MANAGER.ID;"
   ]
  },
  {
   "cell_type": "code",
   "execution_count": null,
   "metadata": {},
   "outputs": [],
   "source": [
    "SELECT E1.사원, E1.관리자, E2.관리자 차상위_관리자\n",
    "FROM 사원 E1, 사원 E2\n",
    "WHERE E1.관리자 = E2.사원\n",
    "ORDER BY E1.사원;\n",
    "\n",
    "# 데이터 상에서 상급 관리자가 없는 최상위 사원은 누락 될 수 있다. 이를 해결하기 위해 OUTER JOIN을 활용한다."
   ]
  },
  {
   "cell_type": "code",
   "execution_count": null,
   "metadata": {},
   "outputs": [],
   "source": [
    "SELECT E1.사원, E1.관리자, E2.관리자 차상위_관리자\n",
    "FROM 사원 E1, LEFT OUTER JOIN 사원 E2\n",
    "ON (E1.관리자 = E2.사원)\n",
    "ORDER BY E1.사원;\n",
    "\n",
    "# 위와 같이 수정할 경우 상급 관리자가 없는 최상위 사원도 누락되지 않고 출력된다."
   ]
  }
 ],
 "metadata": {
  "kernelspec": {
   "display_name": "Python 3",
   "language": "python",
   "name": "python3"
  },
  "language_info": {
   "codemirror_mode": {
    "name": "ipython",
    "version": 3
   },
   "file_extension": ".py",
   "mimetype": "text/x-python",
   "name": "python",
   "nbconvert_exporter": "python",
   "pygments_lexer": "ipython3",
   "version": "3.8.5"
  }
 },
 "nbformat": 4,
 "nbformat_minor": 4
}
