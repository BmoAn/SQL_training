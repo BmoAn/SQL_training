{
 "cells": [
  {
   "cell_type": "markdown",
   "metadata": {},
   "source": [
    "## DCL\n",
    "유저를 생성하고 권한을 제어할 수 있는 명령어"
   ]
  },
  {
   "cell_type": "markdown",
   "metadata": {},
   "source": [
    "### ORACLE 기본 제공 유저\n",
    "1. SCOTT : ORACLE 테스트 용 샘플 유저 (DEFAULT 패스워드 : TIGER)\n",
    "2. SYS : DBA ROLE을 부여받은 유저\n",
    "3. SYSTEM : 데이터베이스의 모든 시스템 권한을 부여받은 DBA 유저 /  ORACLE 설치 완료 시에 패스워드 설정\n",
    "\n",
    "사용자가 실행하는 모든 DDL 문장은 그에 해당하는 적절한 권한이 있어야만 문장을 실행할 수 있다. 이러한 권한을 시스템 권한이라고 하며 약 100개 이상의 종류가 있다. 그렇다 보니 권한을 일일히 설정하는 것은 복잡하기 때문에 **ROLE**을 사용한다."
   ]
  },
  {
   "cell_type": "code",
   "execution_count": null,
   "metadata": {},
   "outputs": [],
   "source": [
    "# DBA 권한을 가지고 있는 SYSTEM 유저로 접속하여 유저 생성 권한을 다른 유저에게 부여한 후 사용한다.\n",
    "\n",
    "GRANT CREATE USER TO SCOTT;\n",
    "→SCOTT 유저에게 'CREATE USER' 권한을 부여\n",
    "\n",
    "CONN SCOTT/TIGER;\n",
    "\n",
    "CREATE USER PJS IDENTIFIED BY KOREA7;\n",
    "\n",
    "CONN PJS/KOREA7;\n",
    "→이 때 오류가 발생하는데 아직 PJS 유저에게 아무런 권한이 없기 때문이다.(하다못해 접속을 하기 위한 권한조차도 없는 상태)\n",
    "\n",
    "CONN SCOTT/TIGER;\n",
    "\n",
    "GRANT CREATE SESSION TO PJS;\n",
    "→이제 접속은 가능하다. 이번엔 테이블을 만들기 위한 권한을 부여해보자.\n",
    "\n",
    "CONN SYSTEM/MANAGER;\n",
    "\n",
    "GRANT CREATE TABLE TO PJS;\n",
    "\n",
    "CONN PJS/KOREA7;\n",
    "\n",
    "CREATE TABLE MENU(\n",
    "    MENU_SEQ INT NOT NULL,\n",
    "    TITLE VARVHAR(10));"
   ]
  },
  {
   "cell_type": "markdown",
   "metadata": {},
   "source": [
    "### 객체(OBJECT) 권한\n",
    "오브젝트 권한은 특정 오브젝트인 테이블, 뷰 등에 대한 SELECT, INSERT, DELETE, UPDATE 작업 명령어를 의미한다.\n",
    "\n",
    "![](https://github.com/BmoAn/SQL_training/blob/master/image/SQL%20%EC%98%A4%EB%B8%8C%EC%A0%9D%ED%8A%B8%20%EA%B6%8C%ED%95%9C.jpg?raw=true)"
   ]
  },
  {
   "cell_type": "code",
   "execution_count": null,
   "metadata": {},
   "outputs": [],
   "source": [
    "# PJS 유저로 접속하여 SCOTT 유저가 PJS의 테이블에 접근할 수 있도록 권한을 부여해보자.\n",
    "\n",
    "CONN PJS/KOREA7;\n",
    "\n",
    "INSERT INTO MENU VALUES(1,'화이팅');\n",
    "\n",
    "COMMIT;\n",
    "\n",
    "GRANT SELECT ON MENU TO SCOTT;"
   ]
  },
  {
   "cell_type": "markdown",
   "metadata": {},
   "source": [
    "위와 같이 각각의 권한들을 유저에게 부여하는 작업을 수행해야 하며 간혹 권한을 빠뜨릴 수도 있으므로,   \n",
    "각 유저별로 어떤 권한이 부여되었는지를 관리해야한다. \n",
    "\n",
    "**이 번거로움을 줄이기 위해 ROLE을 사용하는것!**\n",
    "\n",
    "데이터베이스 관리자는 ROLE을 생성하고 ROLE에 각종 권한들을 부여한 후 ROLE을 다른 ROLE이나 유저에게 부여할 수 있다.   \n",
    "→ 시스템 권한과 오브젝트 권한을 모두 부여할 수 있으며 유저에게 직접 부여될 수도 있고, 다른 ROLE에 포함하여 유저에게 부여될 수도 있다."
   ]
  },
  {
   "cell_type": "code",
   "execution_count": null,
   "metadata": {},
   "outputs": [],
   "source": [
    "CONN SYSTEM/MANAGER\n",
    "\n",
    "CREATE ROLE LOGIN_TABLE;\n",
    "\n",
    "GRANT CREATE SESSION, CREATE TABLE TO LOGIN_TABLE;\n",
    "\n",
    "GRANT LOGIN_TABLE TO JISUNG;\n",
    "→ JISUNG 유저에게 CREATE SESSION과 CREATE TABLE 권한을 가진 ROLE 'LOGIN_TABLE'을 부여했다!\n",
    "\n",
    "REVOKE CREATE SESSION, CREATE TABLE FROM JISUNG;\n",
    "→ 권한을 취소할 때는 REVOKE를 사용한다."
   ]
  },
  {
   "cell_type": "markdown",
   "metadata": {},
   "source": [
    "가장 많이 사용하는 ROLE은 CONNECT와 RESOURSE이며, 아래 표에 각 ROLE별 권한을 참고!\n",
    "\n",
    "![](https://github.com/BmoAn/SQL_training/blob/master/image/SQL%20ROLE.jpg?raw=true)"
   ]
  },
  {
   "cell_type": "markdown",
   "metadata": {},
   "source": [
    "유저를 삭제하는 명령어는 DROP USER이고 CASCADE 옵션을 주면 해당 유저가 생성한 오브젝트를 먼저 삭제한 후 유저를 삭제한다."
   ]
  },
  {
   "cell_type": "code",
   "execution_count": null,
   "metadata": {},
   "outputs": [],
   "source": [
    "CONN SYSTEM/MANAGER\n",
    "\n",
    "DROP USER JISUNG CASCADE;"
   ]
  }
 ],
 "metadata": {
  "kernelspec": {
   "display_name": "Python 3",
   "language": "python",
   "name": "python3"
  },
  "language_info": {
   "codemirror_mode": {
    "name": "ipython",
    "version": 3
   },
   "file_extension": ".py",
   "mimetype": "text/x-python",
   "name": "python",
   "nbconvert_exporter": "python",
   "pygments_lexer": "ipython3",
   "version": "3.8.5"
  }
 },
 "nbformat": 4,
 "nbformat_minor": 4
}
