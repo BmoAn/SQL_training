{
 "cells": [
  {
   "cell_type": "markdown",
   "metadata": {},
   "source": [
    "# JOIN \n",
    "두개 이상의 테이블 들을 연결 또는 결합하여 데이터를 출력하는 것을 JOIN이라고 한다.(관계형 데이터베이스의 가장 큰 장점이자 핵심기능)\n",
    "\n",
    "JOIN을 잘못 기술하게 되면 시스템 자원 부족이나 과다한 응답시간 지연을 발생시키는 중요 원인이 되므로 JOIN조건은 신중하게 작성해야한다!\n",
    "\n",
    "✅ FROM 절에 여러 테이블이 나열되더라도 SQL에서 데이터를 처리할 때는 단 두개의 집합 간에만 조인이 일어난다."
   ]
  },
  {
   "cell_type": "markdown",
   "metadata": {},
   "source": [
    "---\n",
    "## EQUI JOIN\n",
    "EQUI(등가) JOIN은 두 개의 테이블 간에 칼럼 값들이 서로 정확하게 일치하는 경우에 사용되는 방법이다.\n",
    "\n",
    "✅ 대부분 PRIMARY KEY↔FOREIGN KEY 관계를 기반으로 하나 필수조건인것은 아니다."
   ]
  },
  {
   "cell_type": "code",
   "execution_count": null,
   "metadata": {},
   "outputs": [],
   "source": [
    "# WHERE 절에 JOIN조건을 '='을 활용해 입력한다.\n",
    "\n",
    "SELECT 테이블1.칼럼명, 테이블2.칼럼명, ...\n",
    "FROM 테이블1, 테이블2\n",
    "WHERE 테이블1.칼럼명 = 테이블2.칼럼명;\n",
    "\n",
    "# ANSI/ISO\n",
    "SELECT 테이블1.칼럼명, 테이블2.칼럼명, ...\n",
    "FROM 테이블1, 테이블2\n",
    "ON 테이블1.칼럼명 = 테이블2.칼럼명;\n"
   ]
  },
  {
   "cell_type": "markdown",
   "metadata": {},
   "source": [
    "### '테이블1.칼럼명'의 형태를 사용하는 이유\n",
    "\n",
    "1. 활용하고자 하는 테이블에 같은 칼럼명이 존재하는 경우에 에러가 발생할 수 있기 때문에\n",
    "\n",
    "    → 현재 두 집합에서 유일하다고 하여 미래에도 유일하다는 보장이 없기 때문에 향후 발생할 오류를 방지하고 일관성을 유지하기 목적!\n",
    "    \n",
    "    \n",
    "2. 개발자나 사용자가 조회할 데이터가 어느 테이블에 있는 칼럼을 말하는 것인지 쉽게 알 수 있기 때문에\n",
    "\n",
    "    → 가독성 및 유지보수성 높임!\n",
    "    \n",
    "### ✅ SELECT 절에서 칼럼에 대한 ALIAS를 사용하는 것처럼 FROM 절의 테이블에 대해서도 ALIAS를 사용할 수 있다!\n",
    "＊ 주의할 점 : 테이블에 대한 ALIAS를 적용하여 SQL문장을 작성한 경우 WHERE절과 SELECT절에는 원 테이블 이름이 아닌 ALIAS를 사용해야 한다.\n"
   ]
  },
  {
   "cell_type": "code",
   "execution_count": null,
   "metadata": {},
   "outputs": [],
   "source": [
    "# ALIAS를 활용하지 않은 케이스\n",
    "\n",
    "SELECT PLAYER.PLAYER_NAME, PLAYER.BOCK_NO, PLAYER.TEAM_ID,\n",
    "       TEAM.TEAM_NAME, TEAM.REGION_NAME\n",
    "FROM PLAYER, TEAM\n",
    "WHERE PLAYER.TEAM_ID = TEAM.TEAM_ID;\n",
    "\n",
    "# FROM 절에서 ALIAS 활용한 케이스\n",
    "\n",
    "SELECT P.PLAYER_NAME, P.BOCK_NO, P.TEAM_ID,\n",
    "       T.TEAM_NAME, T.REGION_NAME\n",
    "FROM PLAYER P, TEAM T\n",
    "WHERE PLAYER.TEAM_ID = TEAM.TEAM_ID;"
   ]
  },
  {
   "cell_type": "markdown",
   "metadata": {},
   "source": [
    "### ✅ WHERE절에서 JOIN조건 이외의 검색 조건에 대한 제한 조건을 덧붙여 사용할 수 있다!"
   ]
  },
  {
   "cell_type": "code",
   "execution_count": null,
   "metadata": {},
   "outputs": [],
   "source": [
    "# 위의 예시에 추가로 포지션이'GK'인 선수로 조건을 걸어 검색\n",
    "\n",
    "SELECT P.PLAYER_NAME, P.BOCK_NO, P.TEAM_ID,\n",
    "       T.TEAM_NAME, T.REGION_NAME\n",
    "FROM PLAYER P, TEAM T\n",
    "WHERE PLAYER.TEAM_ID = TEAM.TEAM_ID, P.POSITION = 'GK';"
   ]
  },
  {
   "cell_type": "markdown",
   "metadata": {},
   "source": [
    "---\n",
    "\n",
    "## NON EQUI JOIN\n",
    "NON EQUI(비등가) JOIN은 두 개의 테이블 간에 칼럼 값들이 서로 정확하게 일치하지 않는 경우에 사용된다.\n",
    "\n",
    "→ '=' 연산자가 아닌 'BETWEEN, <, >, <=, >=' 연산자활용"
   ]
  },
  {
   "cell_type": "code",
   "execution_count": null,
   "metadata": {},
   "outputs": [],
   "source": [
    "# 사원별 급여 수준이 어느 급여등급에 해당하는지 출력하기 위한 SQL문\n",
    "\n",
    "SELECT E.NAME 사원명, E.SAL 급여, S.GRADE 급여등급\n",
    "FROM EMP E, SALGRADE S\n",
    "WHERE E.SAL BETWEEN S.LOSAL AND S.HISAL;"
   ]
  },
  {
   "cell_type": "markdown",
   "metadata": {},
   "source": [
    "---\n",
    "\n",
    "## 2개 이상의 JOIN 활용하기\n",
    "N개의 테이블에 대한 JOIN은 N-1개의 JOIN 조건이 필요하다.\n",
    "\n",
    "1개 이상의 JOIN 조건을 활용할 때에는 WHERE절에서 AND를 사용해 묶어준다.\n",
    "\n",
    "EX) WHERE P.TEAM_ID = T.TEAM_ID AND T.STADIUM_ID = S.STADIUM_ID;"
   ]
  }
 ],
 "metadata": {
  "kernelspec": {
   "display_name": "Python 3",
   "language": "python",
   "name": "python3"
  },
  "language_info": {
   "codemirror_mode": {
    "name": "ipython",
    "version": 3
   },
   "file_extension": ".py",
   "mimetype": "text/x-python",
   "name": "python",
   "nbconvert_exporter": "python",
   "pygments_lexer": "ipython3",
   "version": "3.8.5"
  }
 },
 "nbformat": 4,
 "nbformat_minor": 4
}
