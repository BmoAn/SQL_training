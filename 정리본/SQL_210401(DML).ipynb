{
 "cells": [
  {
   "cell_type": "markdown",
   "metadata": {},
   "source": [
    "## DML(DATA MANIPULATION LANGUAGE)\n",
    "\n",
    "####  - 테이블에 관리 할 자료를 입력 수정 삭제 조회하는 DML의 사용방법 정리"
   ]
  },
  {
   "cell_type": "markdown",
   "metadata": {},
   "source": [
    "#### 1. INSERT\n",
    "첫번재 방법.\n",
    "\n",
    "INSERT INTO 테이블명 (COLUMN_LIST)\n",
    "\n",
    "VALUES (COLUMN_LIST에 넣을 VALUE_LIST);\n",
    "\n",
    "---\n",
    "두번째 방법.\n",
    "\n",
    "INSERT INTO 테이블명\n",
    "\n",
    "VALUES (전체 COLUMN에 넣을 VALUE_LIST)\n",
    "\n",
    "---\n",
    "✅ 문자 유형의 데이터는 작은따옴표를 활용하고, 숫자는 작음따옴표를 사용하지 않는다. \n",
    "✅ 특정 COLUMN_LIST만 사용할 경우 입력하지 않은 값은 DEFAULT로 NULL값이 입력된다.\n",
    "✅ 별도의 칼럼 미선정시 모든 컬럼을 입력해야 하며, 정의되지 않은 미지의 값은 NULL 혹은 \" 를 사용한다."
   ]
  },
  {
   "cell_type": "markdown",
   "metadata": {},
   "source": [
    "#### 2. UPDATE\n",
    "특정 컬럼에 대한 전체적인 수정이 필요할 때 사용\n",
    "\n",
    "UPDATE 테이블명\n",
    "\n",
    "SET 수정할컬럼명 = 수정된 결과로 원하는 값;"
   ]
  },
  {
   "cell_type": "markdown",
   "metadata": {},
   "source": [
    "#### 3. DELETE\n",
    "테이블 삭제시 활용. \n",
    "\n",
    "DELETE FROM 테이블명;\n",
    "\n",
    "✅ FROM은 생략이 가능하다. DELETE FROM TABLE1; == DELETE TABLE1;\n",
    "\n",
    "✅ DDL과는 달리 DML은 AUTO COMMIT되지 않기 떄문에 메모리 버퍼에서 처리한 DML명령어가 실제 테이블에 반영되기 위해선 별도 COMMIT해야한다.\n",
    "  → 메모리를 활용하는 DML 특성상, 시스템 활용 측면에서는 DELETE보다는 TRUNCATE를 활용하기를 권고하는것!"
   ]
  },
  {
   "cell_type": "markdown",
   "metadata": {},
   "source": [
    "#### 4. SELECT\n",
    "테이블에 입력된 데이터 중 원하는 컬럼 선택하여 출력함.\n",
    "\n",
    "SELECT ALL/DISTINCT 컬럼명1,컬럼명2\n",
    "\n",
    "FROM 컬럼이 포함된 테이블명;\n",
    "\n",
    "✅ ALL은 DEFAULT 옵션이며 중복된 데이터가 있어도 모두 그대로 출력한다. / DISTINCT는 중복된 데이터는 1회만 출력한다.(UNIQUE)\n",
    "\n",
    "✅ 해당 테이블의 모든 정보를 출력하기 위해 와일드카드로 특정 컬럼명이 아닌 애스터리스크를 활용할 수 있다. ( ' * ' )\n",
    "\n",
    "✅ ALIAS를 활용하여 컬럼의 이름을 별도로 지정하여 줄력할 수 있다. \n",
    "\n",
    " - SELECT 원래_컬럼_이름 AS 결과로_원하는_이름 == SELECT 원래_컬럼_이름 결과로_원하는_이름 →'AS'는 생략 가능하다는 의미.\n",
    " - 쌍따옴표는 ALIAS가 공백, 특수문자를 포함할 경우나 대소문자 구분이 필요한 경우 사용된다."
   ]
  },
  {
   "cell_type": "markdown",
   "metadata": {},
   "source": [
    "### 5. 산술연산자와 합성 연산자.\n",
    "산술연산자 : NUMBER와 DATE 자료형에 대해 적용, 수학에서와 같이 (), *, / , +, - 순으로 연산된다.\n",
    "\n",
    "산술연산자를 활용하는 경우 컬럼의 LABEL이 길어지는 만큼 ALIAS를 새롭게 부여하는것이 일반적임.\n",
    "\n",
    "SELECT PLAYER_NAME 이름, HEIGHT - WEIGHT \"키-몸무게\"\n",
    "\n",
    "FROM PLAYER\n",
    "\n",
    "---\n",
    "\n",
    "합성연산자 : CONCAT함수를 사용하거나, SQL 프로그램별 특정 기호를 활용해 칼럼과 문자 혹은 다른 칼럼과 연결시킨다.\n",
    "\n",
    "- 오라클 : '||' ( SELECT PLAYER_NAME || '선수,' || HEIGHT || 'CM' FROM PLAYER ) → 홍길동선수,174CM\n",
    "- SQL SERVER : '+' ( SELECT PLAYER_NAME + '선수,' + HEIGHT + 'CM' FROM PLAYER ) → 홍길동선수,174CM"
   ]
  },
  {
   "cell_type": "code",
   "execution_count": null,
   "metadata": {},
   "outputs": [],
   "source": []
  }
 ],
 "metadata": {
  "kernelspec": {
   "display_name": "Python 3",
   "language": "python",
   "name": "python3"
  },
  "language_info": {
   "codemirror_mode": {
    "name": "ipython",
    "version": 3
   },
   "file_extension": ".py",
   "mimetype": "text/x-python",
   "name": "python",
   "nbconvert_exporter": "python",
   "pygments_lexer": "ipython3",
   "version": "3.8.5"
  }
 },
 "nbformat": 4,
 "nbformat_minor": 4
}
