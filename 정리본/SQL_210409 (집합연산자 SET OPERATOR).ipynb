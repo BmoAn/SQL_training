{
 "cells": [
  {
   "cell_type": "markdown",
   "metadata": {},
   "source": [
    "## 집합연산자 SET OPERATOR\n",
    "여러 개의 질의의 결과를 연결하여 하나로 결합하는 방식 사용 → 2개 이상의 질의 결과를 하나의 결과로 만듦\n",
    "\n",
    "- 서로 다른 테이블에서 유사한 형태의 결과를 반환하는 것을 하나의 결과로 합치고자 할 때\n",
    "- 동일 테이블에서 서로 다른 질의를 수행하여 결과를 합치고자 할 때\n",
    "- 튜닝 관점에서 실행계획을 분리하고자 하는 목적\n",
    "\n",
    "#### 제약조건\n",
    "- SELECT절의 칼럼 수가 동일하고 SELECT절의 동일 위치에 존재하는 칼럼의 데이터 타입이 상호 호환(NOT SAME BUT SIMILLAR)"
   ]
  },
  {
   "cell_type": "markdown",
   "metadata": {},
   "source": [
    "### UNION (합집합, 중복 제거)\n",
    "여러개의 SQL문의 결과에 대한 합집합으로 결광서 모든 중복된 행은 하나의 행으로 만든다.\n",
    "\n",
    "### UNION ALL(합집합, 중복미제거)\n",
    "여러개의 SQL문의 결과에 대한 합집합으로 중복된 행도 그대로 결과로 표시된다.(단순히 합치는 결과물)\n",
    "\n",
    "상호 배타적인 결과에 대해서 많이 사용\n",
    "\n",
    "결과의 정렬 순서에는 차이가 있을 수 있지만 중복이 없는 경우에는 UNION과 결과가 동일하다.\n",
    "\n",
    "### INTERSECT(교집합)\n",
    "SQL문의 결과에 대한 교집합으로 중복된 행은 하나의 행으로 만든다.\n",
    "\n",
    "### MINUS(차집합) ＊ SQL SERVER → EXCEPT\n",
    "앞의 SQL문의 결과에서 뒤의 SQL문의 결과에 대한 차집합이다.(중복된 행은 하나의 행으로 만든다)"
   ]
  },
  {
   "cell_type": "code",
   "execution_count": null,
   "metadata": {},
   "outputs": [],
   "source": [
    "SELECT PLAYER_NAME 선수명, BACK_NO 백넘버\n",
    "FROM PLAYER\n",
    "WHERE TEAM_ID ='K02'\n",
    "[GROUP BY 칼럼이나 표현식]\n",
    "[HAVING 그룹 조건식]\n",
    "UNION\n",
    "SELECT PLAYER_NAME 선수명, BACK_NO 백넘버\n",
    "FROM PLAYER\n",
    "WHERE TEAM_ID ='KO7'\n",
    "[GROUP BY 칼럼이나 표현식]\n",
    "[HAVING 그룹 조건식]\n",
    "ORDER BY 1;"
   ]
  },
  {
   "cell_type": "markdown",
   "metadata": {},
   "source": [
    "✅ ORDER BY는 집합연산을 적용한 최종 결과에 대한 정렬 처리이므로 가장 마지막 줄에 한번만 기술한다."
   ]
  },
  {
   "cell_type": "markdown",
   "metadata": {},
   "source": [
    "---\n",
    "\n",
    "### 연습질문 1\n",
    "\n",
    "소속 선수들 중에서 소속이 삼성블루윙즈팀인 선수들과 전남 드래곤즈 팀인 선수들에 대한 내용을 출력\n",
    "\n",
    "→ 소속이 삼성블루윙즈팀인 선수들과 전남드래곤즈팀인 선수들의 합집합(UNION)"
   ]
  },
  {
   "cell_type": "code",
   "execution_count": null,
   "metadata": {},
   "outputs": [],
   "source": [
    "SELECT TEAM_ID 팀코드,PLAYER_NAME 선수명, POSITION 포지션, BACK_NO 백넘버, HEIGHT 키\n",
    "FROM PLAYER\n",
    "WHERE TEAM_ID ='K02'\n",
    "UNION\n",
    "SELECT TEAM_ID 팀코드,PLAYER_NAME 선수명, POSITION 포지션, BACK_NO 백넘버, HEIGHT 키\n",
    "FROM PLAYER\n",
    "WHERE TEAM_ID ='K07';"
   ]
  },
  {
   "cell_type": "code",
   "execution_count": null,
   "metadata": {},
   "outputs": [],
   "source": [
    "# 합집한은 WHERE절에 IN 또는 OR 연산자로도 변환이 가능하다.\n",
    "\n",
    "SELECT TEAM_ID 팀코드,PLAYER_NAME 선수명, POSITION 포지션, BACK_NO 백넘버, HEIGHT 키\n",
    "FROM PLAYER\n",
    "WHERE TEAM_ID ='K02'OR TEAM_ID = 'K07';\n",
    "\n",
    "SELECT TEAM_ID 팀코드,PLAYER_NAME 선수명, POSITION 포지션, BACK_NO 백넘버, HEIGHT 키\n",
    "FROM PLAYER\n",
    "WHERE TEAM_ID IN ('K02','K07');"
   ]
  },
  {
   "cell_type": "markdown",
   "metadata": {},
   "source": [
    "---\n",
    "\n",
    "### 연습질문 2\n",
    "\n",
    "소속 선수들 중에서 소속이 삼성블루윙즈팀인 선수들과 포지션이 골키퍼(GK)인 선수들에 대한 내용을 출력\n",
    "\n",
    "→ 소속이 삼성블루윙즈팀인 선수들과 포지션이 골키퍼(GK)인 선수들의 합집합(UNION)"
   ]
  },
  {
   "cell_type": "code",
   "execution_count": null,
   "metadata": {},
   "outputs": [],
   "source": [
    "SELECT TEAM_ID 팀코드,PLAYER_NAME 선수명, POSITION 포지션, BACK_NO 백넘버, HEIGHT 키\n",
    "FROM PLAYER\n",
    "WHERE TEAM_ID ='K02'\n",
    "UNION\n",
    "SELECT TEAM_ID 팀코드,PLAYER_NAME 선수명, POSITION 포지션, BACK_NO 백넘버, HEIGHT 키\n",
    "FROM PLAYER\n",
    "WHERE POSITION ='GK';"
   ]
  },
  {
   "cell_type": "code",
   "execution_count": null,
   "metadata": {},
   "outputs": [],
   "source": [
    "# OR 연산자는 사용 가능하지만 다른 칼럼을 활용하기 때문에 IN 연산자는 사용이 불가능하다.\n",
    "\n",
    "SELECT TEAM_ID 팀코드,PLAYER_NAME 선수명, POSITION 포지션, BACK_NO 백넘버, HEIGHT 키\n",
    "FROM PLAYER\n",
    "WHERE TEAM_ID ='K02'OR POSITION = 'GK';"
   ]
  },
  {
   "cell_type": "markdown",
   "metadata": {},
   "source": [
    "해당 SQL문은 UNION과 UNION ALL의 결과물이 다른데, 그 이유는 UNION ALL의 경우 중복된 행이 추출되기 때문이다.\n",
    "\n",
    "UNION은 중복을 제거하기 때문에 삼성블루윙즈팀 이면서 골키퍼인 선수가 1번만 출력된다.\n",
    "\n",
    "하지만 UNION ALL은 중복을 별도로 제거하지 않기 때문에 삼성블루윙즈팀 이면서 골키퍼인 선수가 2번 출력된다."
   ]
  },
  {
   "cell_type": "markdown",
   "metadata": {},
   "source": [
    "---\n",
    "\n",
    "### 연습질문 3\n",
    "\n",
    "포지션별 평균 키와 팀별 평균키를 출력하고 싶다.\n",
    "\n",
    "→ 포지션별 평균 키에 대한 집합과 소속 선수 중 팀별 평균키에 대한 집합의 합집합"
   ]
  },
  {
   "cell_type": "code",
   "execution_count": null,
   "metadata": {},
   "outputs": [],
   "source": [
    "SELECT 'P' 구분코드, POSITION 포지션, AVG(HEIGHT) 평균키\n",
    "FROM PLAYER\n",
    "GROUP BY POSITION\n",
    "UNION\n",
    "SELECT 'T' 구분코드, TEAM_ID 팀명, AVG(HEIGHT) 평균키\n",
    "FROM PLAYER\n",
    "GROUP BY TEAM_ID\n",
    "ORDER BY 1;"
   ]
  },
  {
   "cell_type": "markdown",
   "metadata": {},
   "source": [
    "✅ SELECT 'P' 구분코드 / SELECT 'T' 구분코드\n",
    "\n",
    "    → 실제로 테이블에는 존재하지 않지만 결과를 구분하기 위해 SELECT절에 칼럼을 추가할 수 있으며 임의 추가는 모든 SQL문에서 가능하다.\n",
    "\n",
    "✅ 집합 연산자의 결과를 표시할 때 HEADING 부분은  첫번째 SQL문에서 사용된 HEADING이 적용된다.\n",
    "\n",
    "    → (구분코드, 포지션, 평균키) != (구분코드, 팀명, 평균키) → 결과 출력시에는 첫번째 SQL문인 (구분코드, 포지션, 평균키) 활용됨!"
   ]
  },
  {
   "cell_type": "markdown",
   "metadata": {},
   "source": [
    "---\n",
    "\n",
    "### 연습질문 4\n",
    "\n",
    "소속이 삼성블루윙즈 팀이면서 포지션이 미드필더(MF)가 아닌 선수들의 정보를 출력한다.\n",
    "\n",
    "→ 소속이 삼성블루윙즈 팀인 집합과 포지션이 미드필더(MF)인 선수들의 차집합"
   ]
  },
  {
   "cell_type": "code",
   "execution_count": null,
   "metadata": {},
   "outputs": [],
   "source": [
    "SELECT TEAM_ID 팀코드,PLAYER_NAME 선수명, POSITION 포지션, BACK_NO 백넘버, HEIGHT 키\n",
    "FROM PLAYER\n",
    "WHERE TEAM_ID = 'K02'\n",
    "MINUS\n",
    "SELECT TEAM_ID 팀코드,PLAYER_NAME 선수명, POSITION 포지션, BACK_NO 백넘버, HEIGHT 키\n",
    "FROM PLAYER\n",
    "WHERE POSITION ='MF'\n",
    "ORDER BY 1, 2, 3, 4, 5;"
   ]
  },
  {
   "cell_type": "code",
   "execution_count": null,
   "metadata": {},
   "outputs": [],
   "source": [
    "# MINUS 연산자를 사용하지 않고 논리연산자를 활용한 SQL문\n",
    "SELECT TEAM_ID 팀코드,PLAYER_NAME 선수명, POSITION 포지션, BACK_NO 백넘버, HEIGHT 키\n",
    "FROM PLAYER\n",
    "WHERE TEAM_ID = 'K02' AND POSITION <>'MF'\n",
    "ORDER BY 1, 2, 3, 4, 5;"
   ]
  },
  {
   "cell_type": "markdown",
   "metadata": {},
   "source": [
    "---\n",
    "\n",
    "### 연습질문 5\n",
    "\n",
    "소속이 삼성블루윙즈 팀이면서 포지션이 골키퍼(GK)인 선수들의 정보를 출력한다.\n",
    "\n",
    "→ 소속이 삼성블루윙즈 팀인 집합과 포지션이 골키퍼(GK)인 선수들의 교집합"
   ]
  },
  {
   "cell_type": "code",
   "execution_count": null,
   "metadata": {},
   "outputs": [],
   "source": [
    "SELECT TEAM_ID 팀코드,PLAYER_NAME 선수명, POSITION 포지션, BACK_NO 백넘버, HEIGHT 키\n",
    "FROM PLAYER\n",
    "WHERE TEAM_ID = 'K02'\n",
    "INTERSECT\n",
    "SELECT TEAM_ID 팀코드,PLAYER_NAME 선수명, POSITION 포지션, BACK_NO 백넘버, HEIGHT 키\n",
    "FROM PLAYER\n",
    "WHERE POSITION ='GK'\n",
    "ORDER BY 1, 2, 3, 4, 5;"
   ]
  },
  {
   "cell_type": "code",
   "execution_count": null,
   "metadata": {},
   "outputs": [],
   "source": [
    "# INTERSECT 연산자를 사용하지 않고 논리연산자를 활용한 SQL문\n",
    "SELECT TEAM_ID 팀코드,PLAYER_NAME 선수명, POSITION 포지션, BACK_NO 백넘버, HEIGHT 키\n",
    "FROM PLAYER\n",
    "WHERE TEAM_ID = 'K02' AND POSITION = 'GK'\n",
    "ORDER BY 1, 2, 3, 4, 5;"
   ]
  }
 ],
 "metadata": {
  "kernelspec": {
   "display_name": "Python 3",
   "language": "python",
   "name": "python3"
  },
  "language_info": {
   "codemirror_mode": {
    "name": "ipython",
    "version": 3
   },
   "file_extension": ".py",
   "mimetype": "text/x-python",
   "name": "python",
   "nbconvert_exporter": "python",
   "pygments_lexer": "ipython3",
   "version": "3.8.5"
  }
 },
 "nbformat": 4,
 "nbformat_minor": 4
}
