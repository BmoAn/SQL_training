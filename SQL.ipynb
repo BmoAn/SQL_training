{
 "cells": [
  {
   "cell_type": "markdown",
   "metadata": {},
   "source": [
    "## 명령프롬프트 활용하여 Mysql 사용하기"
   ]
  },
  {
   "cell_type": "markdown",
   "metadata": {},
   "source": [
    "* 명령 프롬프트 활용 -> c드라이브 mysql 파일의 위치로 이동"
   ]
  },
  {
   "cell_type": "markdown",
   "metadata": {},
   "source": [
    "cd C:\\-----\\bin\n",
    "\n",
    "password 입력\n",
    "\n",
    "mysql -uroot -p"
   ]
  },
  {
   "cell_type": "markdown",
   "metadata": {},
   "source": [
    "### Database \n",
    "##### database name(이하 dbname)은 자유롭게 설정하며, 각 코드의 마지막에는 ';'를 붙인다"
   ]
  },
  {
   "cell_type": "markdown",
   "metadata": {},
   "source": [
    "#### 데이터베이스 생성하기\n",
    "CREATE DATABASE dbname;"
   ]
  },
  {
   "cell_type": "markdown",
   "metadata": {},
   "source": [
    "#### 생성된 데이터베이스 삭제하기\n",
    "DROP DATABASE dbname; "
   ]
  },
  {
   "cell_type": "markdown",
   "metadata": {},
   "source": [
    "#### 현재 사용되는중인 데이터베이스 확인하기\n",
    "SHOW DATABASES;"
   ]
  },
  {
   "cell_type": "markdown",
   "metadata": {},
   "source": [
    "#### 활용할 데이터베이스 선택하기\n",
    "USE dbname;"
   ]
  },
  {
   "cell_type": "markdown",
   "metadata": {},
   "source": [
    "### TABLE\n",
    "#### 여러개의 Table이 모여 schema와 database를 구성"
   ]
  },
  {
   "cell_type": "markdown",
   "metadata": {},
   "source": [
    "#### TABLE 만들기 \n",
    "\n",
    "CREATE TABLE 테이블이름(\n",
    "\n",
    "    컬럼명1 dtype() CONSTRAINT(제약조건),\n",
    "    \n",
    "    컬럼명2 dtype() CONSTRAINT(제약조건));\n",
    "\n",
    "\n",
    "---\n",
    "\n",
    "* 이름 설정시 주의할 점!\n",
    "\n",
    "1.사용 가능한 문자 : (a-z, A-Z, 0-9, _, $, #)\n",
    "\n",
    "2. 테이블 이름은 다른 테이블 이름과 중복될 수 없음\n",
    "\n",
    "3. 한 테이블 내에서 같은 이름의 컬럼명 중복될 수 없음\n",
    "\n",
    "4. 테이블명은 가능한 단수형을 권고하며 숫자가 아닌 문자로 시작되어야 함"
   ]
  },
  {
   "cell_type": "markdown",
   "metadata": {},
   "source": [
    "#### 데이터 유형 정리(dtype)\n",
    "\n",
    "CHAR(x): 고정 길이를 갖고 있는 문자열 (할당된 변수 값의 길이가 x보다 작은 경우에는 그 차이만큼 공간으로 채워짐)\n",
    "\n",
    "VARCHAR(x) : 가변 길이를 갖고 있는 문자열 (할당된 변수 값의 길이만큼만 용량이 적용됨. x는 limit 의 개념)\n",
    "\n",
    "NUMERIC : 정수 실수 등 숫자정보\n",
    "\n",
    "DATETIME : 날짜와 시각 정보 -> 별도의 크기를 지정하지 않음\n",
    "\n",
    "* CHAR에서는 문자열을 비교할 떄 둘 중 더 짧은 문자열 뒤에 동일한 길이가 되도록 공백을 추가한 뒤 비교함 'AA' = 'AA '\n",
    "\n",
    "  VARCHAR에서는 공백도 하나의 문자로 취급하므로 공백이 다르면 다른 문자로 판단함 'AA' != 'AA '"
   ]
  },
  {
   "cell_type": "markdown",
   "metadata": {},
   "source": [
    "#### 제약조건 CONSTRAINT\n",
    "\n",
    "PRIMARY KEY : 하나의 테이블에 하나만 지정할 수 있으며 각 row를 고유하게 식별하기 위한 기본키임 ( UNIQUE + NOT NULL)\n",
    "\n",
    "UNIQUE KEY : 각 row를 고유하게 식별하기 위한 특징은 같으나 null 제약이 없다\n",
    "\n",
    "NOT NULL : null의 입력을 금지한다 (디폴트 상태에서는 모든 칼럼에서  허용되어 있음)\n",
    "\n",
    "CHECK : 입력할 수 있는 값의 범위를 제한함\n",
    "\n",
    "FOREIGN KEY : 테이블간의 관계를 정의하기 위해 기본키를 다른 테이블의 외래키로 복사할 때 생성됨\n",
    "\n",
    "* null은 공백, 숫자0, 공집합이없음과는 다른 값으로 아직 정의되지 않은 값이거나 현재 데이터를 입력하지 못하는 값을 의미함\n",
    "\n",
    "---\n",
    "\n",
    "DESCRIBE 테이블명;  DESC 테이블명; -> 테이블에 대한 정보 ( 칼럼명 이나 constraint등에 대한 정보) 확인할 수 있음"
   ]
  },
  {
   "cell_type": "code",
   "execution_count": null,
   "metadata": {},
   "outputs": [],
   "source": []
  }
 ],
 "metadata": {
  "kernelspec": {
   "display_name": "Python 3",
   "language": "python",
   "name": "python3"
  },
  "language_info": {
   "codemirror_mode": {
    "name": "ipython",
    "version": 3
   },
   "file_extension": ".py",
   "mimetype": "text/x-python",
   "name": "python",
   "nbconvert_exporter": "python",
   "pygments_lexer": "ipython3",
   "version": "3.8.5"
  }
 },
 "nbformat": 4,
 "nbformat_minor": 4
}
