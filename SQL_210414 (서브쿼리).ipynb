{
 "cells": [
  {
   "cell_type": "markdown",
   "metadata": {},
   "source": [
    "## 서브쿼리(SUBQUERY)\n",
    "서브쿼리란 하나의 SQL문안에 포함되어 있는 도 다른 SQL문을 말한다. \n",
    "\n",
    "＊ 메인쿼리가 서브쿼리를 포함하는 종속적인 관계 → 서브쿼리는 메인쿼리의 칼럼을 모두 사용할 수 있지만 반대의 경우는 아니다.\n",
    "\n",
    "SQL문에서 서브쿼리가 사용 가능한 곳\n",
    "\n",
    "＊ SELECT / FROM / WHERE / HAVING / ORDER BY / INSERT 문의 VALUES절 / UPDATE문의 SET절\n",
    "\n",
    "\n",
    "### 주의할 점!\n",
    "1. 서브쿼리를 괄호로 감싸서 사용한다.\n",
    "2. 서브쿼리는 단일 행 또는 복수 행 비교 연산자와 함께 사용 가능하다.\n",
    "\n",
    "    → 단일 행 비교 연산자는 서브쿼리의 결과가 반드시 1건 이하이어야 하고 복수행 비교연산자는 서브쿼리의 결과 건수와 상관 없다.\n",
    "    \n",
    "3. 서브쿼리에서는 ORDER BY 를 사용하지 못한다. (메인쿼리의 마지막 문장에 위치해야 한다.)"
   ]
  },
  {
   "cell_type": "markdown",
   "metadata": {},
   "source": [
    "### 동작하는 방식에 따른 서브쿼리 분류\n",
    "1. UN-CORRELATED(비연관) 서브쿼리 \n",
    "- 서브쿼리가 메인쿼리 칼럼을 가지고 있지 않는 형태의 서브쿼리로 메인쿼리에 서브쿼리가 실행된 결과를 제공하기 위한 목적으로 주로 사용된다.\n",
    "\n",
    "2. CORRELATED(연관) 서브쿼리  \n",
    "- 서브쿼리가 메인쿼리 칼럼을 가지고 있는 형태의 서브쿼리이다. 일반적으로 메인 쿼리가 먼저 수행되어 읽혀진 데이터를 서브쿼리에서 조건이 맞는지 확인하고자 할 때 주로 사용된다."
   ]
  },
  {
   "cell_type": "markdown",
   "metadata": {},
   "source": [
    "### 반환되는 데이터 형태에 따른 서브쿼리 분류\n",
    "1. SINGLE ROW 서브쿼리(단일행 서브쿼리) \n",
    "- 서브쿼리의 실행 결과가 항상 1건 이하인 서브쿼리를 의미한다. 단일 행 서브쿼리는 단일 행 비교 연산자와 함께 사용된다.\n",
    "- 단일 행 비교 연산자 : =, <, <=, >, >=, <>\n",
    "- 서브쿼리의 결과 건수가 2건 이상을 반환하면 SQL문은 RUN TIME 오류가 발생한다.\n",
    "\n",
    "2. MULTI ROW 서브쿼리(다중행 서브쿼리)\n",
    "- 서브쿼리의 실행 결과가 여러 건인 서브쿼리를 의미한다. 다중 행 서브쿼리는 다중 행 비교 연산자와 함꼐 사용된다.\n",
    "- 다중 행 비교 연산자 : IN, ALL, AVY, SOME, EXISTS\n",
    "\n",
    "3. MULTI COLUMN 서브쿼리 (다중칼럼 서브쿼리)\n",
    "- 서브쿼리의 실행 결과로 여러 칼럼을 반환한다. 메인쿼리의 조건절에 여러 칼럼을 동시에 비교할 수 있다.\n",
    "- 서브쿼리와 메인쿼리에서 비교하고자 하는 칼럼 개수와 칼럼의 위치가 동일해야 한다."
   ]
  },
  {
   "cell_type": "markdown",
   "metadata": {},
   "source": [
    "#### SINGLE ROW 서브쿼리(단일행 서브쿼리) 활용 SQL문 예시\n",
    "1. '정남일' 선수가 소속된 팀에 소속된 선수들의 정보를 출력하는 서브쿼리"
   ]
  },
  {
   "cell_type": "code",
   "execution_count": null,
   "metadata": {},
   "outputs": [],
   "source": [
    "SELECT PLAYER_NAME 선수명, POSITION 포지션, BACK_NO 백넘버\n",
    "FROM PLAYER\n",
    "WHERE TEAM_ID = (SELECT TEAM_ID\n",
    "                FROM PLAYER\n",
    "                WHERER PLAYER_NAME = '정남일')\n",
    "ORDER BY PLAYER_NAME;"
   ]
  },
  {
   "cell_type": "markdown",
   "metadata": {},
   "source": [
    "2. 키가 평균 이하인 선수들의 정보를 출력하는 문제(그룹함수를 사용한 서브쿼리)"
   ]
  },
  {
   "cell_type": "code",
   "execution_count": null,
   "metadata": {},
   "outputs": [],
   "source": [
    "SELECT PLAYER_NAME 선수명, POSITION 포지션, BACK_NO 백넘버\n",
    "FROM PLAYER\n",
    "WHERE HEIGHT <= (SELECT AVG(HEIGHT)\n",
    "                FROM PLAYER)\n",
    "ORDER BY PLAYER_NAME;"
   ]
  },
  {
   "cell_type": "markdown",
   "metadata": {},
   "source": [
    "#### MULTI ROW 서브쿼리(다중행 서브쿼리) 활용 SQL문 예시\n",
    "'정현수' 선수가 소속되어있는 팀 정보를 출력하는 서브쿼리 \n",
    "\n",
    "＊ 내가 찾고자 하는 선수와 동명이인 '정현수' 선수가 있을 경우! → 서브쿼리의 결과가 2개 이상의 행이 반환될 경우 MULTI ROW 연산자 활용 필요"
   ]
  },
  {
   "cell_type": "code",
   "execution_count": null,
   "metadata": {},
   "outputs": [],
   "source": [
    "SELECT REGION_NAME 연고지명, TEAM_NAME 팀명, E_TEAM_NAME 영문팀명\n",
    "FROM TEAM\n",
    "WHERE TEAM_ID IN (SELECT TEAM_ID\n",
    "                FROM PLAYER\n",
    "                WHERE PLAYER_NAME = '정현수')\n",
    "ORDER BY TEAM_NAME;"
   ]
  },
  {
   "cell_type": "markdown",
   "metadata": {},
   "source": [
    "#### MULTI COLUMN 서브쿼리 (다중칼럼 서브쿼리)\n",
    "소속팀별 키가 가장 작은 사람들의 정보를 출력하는 문제"
   ]
  },
  {
   "cell_type": "code",
   "execution_count": null,
   "metadata": {},
   "outputs": [],
   "source": []
  }
 ],
 "metadata": {
  "kernelspec": {
   "display_name": "Python 3",
   "language": "python",
   "name": "python3"
  },
  "language_info": {
   "codemirror_mode": {
    "name": "ipython",
    "version": 3
   },
   "file_extension": ".py",
   "mimetype": "text/x-python",
   "name": "python",
   "nbconvert_exporter": "python",
   "pygments_lexer": "ipython3",
   "version": "3.8.5"
  }
 },
 "nbformat": 4,
 "nbformat_minor": 4
}
