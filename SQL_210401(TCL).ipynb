{
 "cells": [
  {
   "cell_type": "markdown",
   "metadata": {},
   "source": [
    "## TCL(TRANSACTION CONTROL LANGUAGE)\n",
    "\n",
    "### TRANSACTION이란 밀접히 관련되어 분리될 수 없는 한 개 이상의 DB 조작을 가리키는 말\n",
    "\n",
    "---\n",
    "#### TRANSACTION의 특성 \n",
    "- 원자성(atomcity) : 트랜잭션에서 정의된 연산들은 모두 성공적으로 실행되던지 아니면 전혀 실행되지 않은 상태로 남아있어야 한다.\n",
    "- 일관성(consistency) : 트랜잭션이 실행되기 전의 DB 내용이 잘못 되어 있지 않다면 실행된 이후에도 DB의 내용에 잘못이 있으면 안된다.\n",
    "- 고립성(isolation) : 트랜잭션이 실행되는 도중에 다른 트랜잭션의 영향을 받아 잘못된 결과를 만들어서는 안된다.\n",
    "- 지속성(durability) : 트랜잭션이 성공적으로 수행되면 그 트랜잭션이 갱신한 데이터베이스의 내용은 영구적으로 저장된다.\n",
    "\n",
    "#### COMMIT 과 ROLLBACK 사용의 효과\n",
    "- 데이터 무결성 보장\n",
    "- 영구적인 변경을 하기 전에 데이터 변경 사항 확인 가능\n",
    "- 논리적으로 연관된 작업을 그룹핑하여 처리 가능\n",
    "---"
   ]
  },
  {
   "cell_type": "markdown",
   "metadata": {},
   "source": [
    "## COMMIT\n",
    "\n",
    "입력한 자료나 수정/삭제한 자료에 대해서 문제가 없다고 판단했을 때 트랜잭션을 완료하는 명령어\n",
    "\n",
    "✅ SQL SERVER는 AUTO COMMIT 세팅이 되어있으므로 오류가 발생할 경우에만 자동으로 ROLLBACK 처리가 된다.\n",
    "\n",
    "#### 입력한 자료의 COMMIT이 수행되기 전 특징\n",
    "- 메모리 버퍼에만 영향을 받았기 떄문에 COMMIT 이전에는 데이터의 변경 이전 상태로 복구가 가능하다.\n",
    "- 현재 사용자는 수행한 명령의 결과를 확인 가능하지만 다른 사용자는 불가능하다.\n",
    "- 변경된 행은 잠금이 설정된 상태로 다른 사용자가 변경할 수 없다.\n",
    "\n",
    "✅ 잠금(LOCKING) : 트랜잭션이 수행되는 동안 특정 데이터에 대해서 다른 트랜잭션이 동시에 접근하지 못하도록 접근하는 기법\n",
    "\n",
    "#### INSERT / UPDATE / DELETE 수행 후 'COMMIT;' 명령어 사용\n",
    "\n",
    "#### COMMIT 이후 데이터 상태 및 특징\n",
    "- 데이터에 대한 변경 사항이 데이터베이스에 반영된다.\n",
    "- 이전 데이터는 영원히 잃어버리게 된다.(복구 불가능)\n",
    "- 모든 사용자가 결과를 확인할 수 있다.\n",
    "- 관련된 행에 잠금이 풀리고 다른 사용자들이 행을 조작할 수 있는 상태가 된다.\n",
    "\n",
    "---"
   ]
  },
  {
   "cell_type": "markdown",
   "metadata": {},
   "source": [
    "## ROLLBACK\n",
    "데이터 변경사항이 취소되어 이전 상태로 복구되며 관련된 행에 대한 잠금이 풀리고, 다른 사용자들이 데이터 변경을 할 수 있게 하는 명령어\n",
    "\n",
    "#### INSERT / UPDATE / DELETE 수행 후 COMMIT하지 않고 'ROLLBACK;'\n",
    "\n",
    "#### ROLLBACK 이후 데이터 상태 및 특징\n",
    "- 데이터에 대한 변경사항은 취소된다.\n",
    "- 이전 데이터는 다시 재저장된다.\n",
    "- 관련된 행에 대한 잠금이 풀리고 다른 사용자들이 행을 조작할 수 있게 된다.\n",
    "\n",
    "---"
   ]
  },
  {
   "cell_type": "markdown",
   "metadata": {},
   "source": [
    "## SAVEPOINT\n",
    "복잡한 대규모 트랜잭션에서 에러가 발생했을 때 특정 시점까지만 ROLLBACK 수행하고 실패한 부분에 대해서만 다시 실행할 수 있다.\n",
    "\n",
    "✅ 복수의 세이브포인트를 정의할 수 있으며 동일한 이름으로 저장할 경우 나중에 정의한 세이브포인트만 유효하다.\n",
    "✅ DDL 문장을 실행하면 그 전후 시점에 자동으로 COMMIT 된다.\n",
    "✅ 데이터베이스를 정상적으로 접속을 종료하면 자동으로 COMMIT된다.\n",
    "✅ 어플리케이션의 이상 종료로 데이터베이스와의 접속이 단절되었을 때는 자동으로 ROLLBACK된다.\n",
    "#### 오라클(ORACLE)\n",
    "SAVEPOINT 세이브포인트이름;\n",
    "\n",
    "ROLLBACK 세이브포인트이름;\n",
    "\n",
    "#### SQL SERVER\n",
    "SAVE TRANSACTION 세이브포인트이름;\n",
    "\n",
    "ROLLBACK TRANSACTION 세이브포인트이름;\n",
    "\n",
    "✅ SQL SERVER는 \n"
   ]
  },
  {
   "cell_type": "code",
   "execution_count": null,
   "metadata": {},
   "outputs": [],
   "source": []
  }
 ],
 "metadata": {
  "kernelspec": {
   "display_name": "Python 3",
   "language": "python",
   "name": "python3"
  },
  "language_info": {
   "codemirror_mode": {
    "name": "ipython",
    "version": 3
   },
   "file_extension": ".py",
   "mimetype": "text/x-python",
   "name": "python",
   "nbconvert_exporter": "python",
   "pygments_lexer": "ipython3",
   "version": "3.8.5"
  }
 },
 "nbformat": 4,
 "nbformat_minor": 4
}
