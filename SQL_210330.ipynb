{
 "cells": [
  {
   "cell_type": "markdown",
   "metadata": {},
   "source": [
    "## 명령프롬프트 활용하여 Mysql 사용하기"
   ]
  },
  {
   "cell_type": "markdown",
   "metadata": {},
   "source": [
    "cd C:\\-----\\bin (c드라이브 mysql 파일의 위치)\n",
    "\n",
    "password 입력\n",
    "\n",
    "mysql -uroot -p\n",
    "\n",
    "---"
   ]
  },
  {
   "cell_type": "markdown",
   "metadata": {},
   "source": [
    "# DDL (DATA DEFINITION LANGUAGE)"
   ]
  },
  {
   "cell_type": "markdown",
   "metadata": {},
   "source": [
    "### Database \n",
    "#### 데이터베이스의 이름(이하 dbname)은 자유롭게 설정하며, 각 코드의 마지막에는 ';'를 붙인다"
   ]
  },
  {
   "cell_type": "markdown",
   "metadata": {},
   "source": [
    "데이터베이스 생성하기 : CREATE DATABASE dbname;\n",
    "\n",
    "생성된 데이터베이스 삭제하기 : DROP DATABASE dbname;\n",
    "\n",
    "현재 사용되는중인 데이터베이스 확인하기 : SHOW DATABASES;\n",
    "\n",
    "활용할 데이터베이스 선택하기 : USE dbname;\n",
    "\n",
    "---"
   ]
  },
  {
   "cell_type": "markdown",
   "metadata": {},
   "source": [
    "### TABLE \n",
    "\n",
    "CREATE TABLE 테이블이름(\n",
    "\n",
    "    컬럼명1 dtype() CONSTRAINT(제약조건),\n",
    "    \n",
    "    컬럼명2 dtype() CONSTRAINT(제약조건));\n",
    "\n",
    "\n",
    "---\n",
    "\n",
    "* 이름 설정시 주의할 점!\n",
    "\n",
    "1. 사용 가능한 문자 : (a-z, A-Z, 0-9, _, $, #)\n",
    "\n",
    "2. 테이블 이름은 다른 테이블 이름과 중복될 수 없음\n",
    "\n",
    "3. 한 테이블 내에서 같은 이름의 컬럼명 중복될 수 없음\n",
    "\n",
    "4. 테이블명은 가능한 단수형을 권고하며 숫자가 아닌 문자로 시작되어야 함\n",
    "\n",
    "---"
   ]
  },
  {
   "cell_type": "markdown",
   "metadata": {},
   "source": [
    "### RENAME TABLE\n",
    "테이블의 이름 변경\n",
    "\n",
    "RENAME 변경전테이블이름 TO 변경할테이블이름;\n",
    "\n",
    "### DROP TABLE\n",
    "불필요한 테이블을 삭제하는 명령\n",
    "\n",
    "✅CASCADE CONSTRAINT 옵션은 해당 테이블과 관계가 있었던 참조되는 제약조건에 대해서도 삭제한다는 의미\n",
    "\n",
    "DROP TABLE 테이블이름 (CASCADE CONSTRAINT);\n",
    "\n",
    "### TRUNCATE TABLE\n",
    "해당 테이블에 들어있던 행들이 제거되고 저장공간을 재사용 가능하도록 함 (구조는 유지)\n",
    "\n",
    "TRUNCATE TABLE 테이블명;"
   ]
  },
  {
   "cell_type": "markdown",
   "metadata": {},
   "source": [
    "##### SELECT 활용하여 테이블 복사하기\n",
    " \n",
    "✅ 제약조건 중 NOT NULL을 제외한 나머지는 복제테이블에 적용되지 않으며, ALTER TABLE을 활용해야하는 단점이 있음\n",
    "\n",
    "\n",
    "CREATE TABLE TABLE_COPY\n",
    "\n",
    "AS SELECT * FROM TABLE_ORIGIN;\n",
    "\n",
    "---"
   ]
  },
  {
   "cell_type": "markdown",
   "metadata": {},
   "source": [
    "### 데이터 유형 정리(dtype)\n",
    "\n",
    "CHAR(x): 고정 길이를 갖고 있는 문자열 (할당된 변수 값의 길이가 x보다 작은 경우에는 그 차이만큼 공간으로 채워짐)\n",
    "\n",
    "VARCHAR(x) : 가변 길이를 갖고 있는 문자열 (할당된 변수 값의 길이만큼만 용량이 적용됨. x는 limit 의 개념)\n",
    "\n",
    "NUMERIC : 정수 실수 등 숫자정보\n",
    "\n",
    "DATETIME : 날짜와 시각 정보 -> 별도의 크기를 지정하지 않음\n",
    "\n",
    "✅ CHAR에서는 문자열을 비교할 떄 둘 중 더 짧은 문자열 뒤에 동일한 길이가 되도록 공백을 추가한 뒤 비교함 'AA' = 'AA '\n",
    "\n",
    "✅ VARCHAR에서는 공백도 하나의 문자로 취급하므로 공백이 다르면 다른 문자로 판단함 'AA' != 'AA '\n",
    "  \n",
    "---"
   ]
  },
  {
   "cell_type": "markdown",
   "metadata": {},
   "source": [
    "### 제약조건 CONSTRAINT\n",
    "\n",
    "PRIMARY KEY : 하나의 테이블에 하나만 지정할 수 있으며 각 row를 고유하게 식별하기 위한 기본키임 ( UNIQUE + NOT NULL)\n",
    "\n",
    "UNIQUE KEY : 각 row를 고유하게 식별하기 위한 특징은 같으나 null 제약이 없다\n",
    "\n",
    "NOT NULL : null의 입력을 금지한다 (디폴트 상태에서는 모든 칼럼에서  허용되어 있음)\n",
    "\n",
    "CHECK : 입력할 수 있는 값의 범위를 제한함\n",
    "\n",
    "FOREIGN KEY : 테이블간의 관계를 정의하기 위해 기본키를 다른 테이블의 외래키로 복사할 때 생성됨"
   ]
  },
  {
   "cell_type": "markdown",
   "metadata": {},
   "source": [
    "✅ null은 공백, 숫자0, 공집합이없음과는 다른 값으로 아직 정의되지 않은 값이거나 현재 데이터를 입력하지 못하는 값을 의미함\n",
    "\n",
    "✅ DESCRIBE 테이블명;  DESC 테이블명; -> 테이블의 구조 ( 칼럼명 이나 constraint등에 대한 정보) 확인할 수 있음\n",
    "\n",
    "---"
   ]
  },
  {
   "cell_type": "markdown",
   "metadata": {},
   "source": [
    "### ALTER TABLE\n",
    "테이블의 구조를 변경해야할 때 사용\n",
    "#### 1. ADD COLUMN\n",
    "기존 테이블에 필요한 칼럼을 추가하는 명령\n",
    "\n",
    "✅추가한 컬럼은 테이블의 마지막 컬럼이 되며 위치를 지정할 수 없다.\n",
    "\n",
    "ALTER TABLE 테이블명\n",
    "\n",
    "ADD 추가할칼럼명 데이터유형;\n",
    "\n",
    "#### 2. DROP COLUMN\n",
    "테이블에서 필요 없는 칼럼을 삭제하는 명령 \n",
    "\n",
    "✅칼럼 삭제 후 최소 하나의 칼럼은 테이블에 남아있어야하며 복구는 불가능하다.\n",
    "\n",
    "ALTER TABLE 테이블명\n",
    "\n",
    "DROP COLUMN 삭제할칼럼명;\n",
    "\n",
    "#### 3. MODIFY COLUMN\n",
    "칼럼의 데이터 유형, 디폴트값, 제약조건에 대한 변경이 가능하다.\n",
    "\n",
    "ALTER TABLE 테이블명\n",
    "\n",
    "ALTER (칼럼명 데이터유형 (DEFAULT '----') 제약조건);\n",
    "\n",
    "✅ 한번에 여러개의 칼럼을 변경할 수 있으며 칼럼의 크기를 늘릴 수 있지만 줄일수는 없다 (훼손 방지차원)\n",
    "\n",
    "✅ DEFAULT 값의 변경은 변경 이후 입력된 row에 대해서만 적용된다.\n",
    "\n",
    "✅ NULL값이 없을 경우에만 NOT NULL 조건을 추가할 수 있다.\n",
    "\n",
    "#### 4. RENAME COLUMN\n",
    "칼럼명을 바꿀 때 사용하는 명령 \n",
    "\n",
    "✅해당 칼럼과 관계된 제약조건에 대해서도 자동으로 변경되지만 일부 DBMS에서만 작동한다.\n",
    "\n",
    "ALTER TABLE 테이블명\n",
    "\n",
    "RENAME COLUMN 원래칼럼명 TO 새로운컬럼명;\n",
    "\n",
    "#### 5. DROP CONSTRAINT\n",
    "제약조건을 삭제하는 명령어\n",
    "\n",
    "ALTER TABLE 테이블명\n",
    "\n",
    "DROP CONSTRAINT 제약조건명;\n",
    "\n",
    "#### 5. ADD CONSTRAINT\n",
    "제약조건을 추가하는 명령어\n",
    "\n",
    "ALTER TABLE 테이블명\n",
    "\n",
    "ADD CONSTRAINT 제약조건명 제약조건 (칼럼명);\n",
    "\n",
    "✅ 예제 (PLAYER 테이블에 TEAM 테이블과의 외래키 제약조건을 추가하는 예제)\n",
    "\n",
    "ALTER TABLE PLAYER\n",
    "\n",
    "ADD CONSTRAINT PLAYER_FK FOREIGN KEY (TEAM_ID) (REFERENCES TEAM(TEAM_ID));\n",
    "\n",
    "---"
   ]
  }
 ],
 "metadata": {
  "kernelspec": {
   "display_name": "Python 3",
   "language": "python",
   "name": "python3"
  },
  "language_info": {
   "codemirror_mode": {
    "name": "ipython",
    "version": 3
   },
   "file_extension": ".py",
   "mimetype": "text/x-python",
   "name": "python",
   "nbconvert_exporter": "python",
   "pygments_lexer": "ipython3",
   "version": "3.8.5"
  }
 },
 "nbformat": 4,
 "nbformat_minor": 4
}
