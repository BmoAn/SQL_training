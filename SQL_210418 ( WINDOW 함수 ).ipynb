{
 "cells": [
  {
   "cell_type": "markdown",
   "metadata": {},
   "source": [
    "## 윈도우 함수 (WINDOW 함수)\n",
    "- 행과 행간의 관계를 정의하거나, 행과 행간을 비교 연산하는 등의 SQL문을 작성할 때 사용하는 WINDOW 함수\n",
    "- 분석함수나 순위함수로도 잘 알려져 있는 윈도우 함수는 DW에서 발전한 기능이다.\n",
    "\n",
    "1. 그룹 내 순위(RANK) : RANK, DENSE_RANK, ROW_NUMBER\n",
    "2. 그룹 내 집계(AGGREGATION) : SUM, MAX, MIN, AVG, COUNT\n",
    "3. 그룹 내 행 순서 : FIRST_VALUE, LAST_VALUE, LAG, LEAD\n",
    "4. 그룹 내 비율 : CUME_DIST, PERCENT_RANK, NTILE, RATIO_TO_REPORT\n",
    "5. 선형 분석을 포함한 통계 분석 관련 함수 (통계와 관련된 특화 기능이므로 본 가이드에서는 생략되었다.)"
   ]
  },
  {
   "cell_type": "markdown",
   "metadata": {},
   "source": [
    "### WINDOW FUNCTION SYNTAX\n",
    "- WINDOW 함수에는 OVER 문구가 키워드로 필수 포함된다."
   ]
  },
  {
   "cell_type": "code",
   "execution_count": null,
   "metadata": {},
   "outputs": [],
   "source": [
    "SELECT WINDOW_FUNCTION (ARGUMENTS) OVER\n",
    "(|PARTITION BY 칼럼| |ORDER BY 칼럼| |WINDOWING 절|)\n",
    "FROM 테이블 명;"
   ]
  }
 ],
 "metadata": {
  "kernelspec": {
   "display_name": "Python 3",
   "language": "python",
   "name": "python3"
  },
  "language_info": {
   "codemirror_mode": {
    "name": "ipython",
    "version": 3
   },
   "file_extension": ".py",
   "mimetype": "text/x-python",
   "name": "python",
   "nbconvert_exporter": "python",
   "pygments_lexer": "ipython3",
   "version": "3.8.5"
  }
 },
 "nbformat": 4,
 "nbformat_minor": 4
}
