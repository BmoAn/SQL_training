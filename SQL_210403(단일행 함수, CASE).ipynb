{
 "cells": [
  {
   "cell_type": "markdown",
   "metadata": {},
   "source": [
    "# 함수(FUNCTION)\n",
    "함수 → 사용자가 정의할 수 있는 함수 AND 내장함수(벤더에서 제공하는 함수)\n",
    "\n",
    "내장함수 → 단일행 함수(함수의 입력 값이 단일행 값이 입력) AND 다중행 함수(여러 행의 값의 입력)\n",
    "\n",
    "다중행 함수 → 집계합수 AND 그룹함수 AND 윈도우함수"
   ]
  },
  {
   "cell_type": "markdown",
   "metadata": {},
   "source": [
    "## 1. 단일행 함수\n",
    "\n",
    "### 가. 단일행 함수의 특징\n",
    "\n",
    "- SELECT, WHERE, ORDER BY 절에 사용 가능하다.\n",
    "- 각 행들에 대해 개별적으로 작용하여 데이터 값들을 조작하고 각각의 행에 대한 조작 결과를 리턴한다.\n",
    "- 여러 인자를 입력해도 단 하나의 결과만 리턴한다.\n",
    "- 함수의 인자로 상수, 변수, 표현식이 사용 가능하고 하나의 인수를 가지는 경우도 있지만 여러 개의 인수를 가질 수도 있다.\n",
    "- 특별한 경우가 아니면 함수의 인자로 함수를 사요하는 함수의 중첩이 가능하다.\n",
    "\n",
    "### 나. 단일행 함수의 종류\n",
    "\n",
    "- 문자형 함수 : 문자를 입력하면 문자나 숫자 값을 반환한다. \n",
    "- 숫자형 함수 : 숫자를 입력하면 숫자 값을 반환한다.\n",
    "- 날짜형 함수 : DATE 타잆의 값을 연산한다.\n",
    "- 변환형 함수 : 문자, 숫자, 날짜형 값의 데이터 타입을 변환한다.\n",
    "- NULL 관련 함수 : NULL을 처리하기 위한 함수. "
   ]
  },
  {
   "cell_type": "markdown",
   "metadata": {},
   "source": [
    "### 1-1 문자형 함수\n",
    "\n",
    "- LOWER(문자열) : 문자열의 알파벳 문자를 소문자로 바꾸어 준다.\n",
    "- UPPER(문자열) : 문자열의 알파벳 문자를 대문자로 바꾸어 준다.\n",
    "- ASCH(문자) : 문자나 숫자를 ASCH 코드 번호로 바꾸어 준다.\n",
    "- CHR(ASCH번호) : ASCH 코드 번호를 문자나 숫자로 바꾸어 준다.\n",
    "- CONCAT(문자열1, 문자열2) : 문자열1과 문자열2를 연결한다. 합성연산자 '||'와 동일\n",
    "- SUBSTR(문자열, m, n) : 문자열 중 m 위치에서 n개의 문자길이에 해당하는 문자를 돌려준다. n이 생략되면 마지막 문자\n",
    "- LENGTH(문자열) : 문자열의 개수를 숫자값으로 돌려준다.\n",
    "- LTRIM(문자열,지정문자) : 문자열의 첫 문자부터 확인해서 지정 문자가 나타나는동안 해당 문자를 제거한다.(지정문자 생략시 디폴트 : 공백)\n",
    "- RTRIM(문자열,지정문자) : 문자열의 마지막 문자부터 확인해서 지정문자가 나타나는동안 해당 문자를 제거한다. (지정문자 생략시 디폴트 : 공백)\n",
    "- TRIM([leading, tailling, both]지정문자 FROM 문자열) : 문자열에 머리말, 꼬리말, 또는 양쪽에 있는 지정 문자를 제거한다. (l/t/b 디폴트 b)\n",
    "\n",
    "#### ✅ DUAL\n",
    "사용자 테이블이 필요 없는 SQL 문장의 경우에도 필수적으로 DUAL이라는 테이블을 FROM절에 지정한다.\n",
    "- 사용자 SYS가 소유하며 모든 사용자가 액세스 가능한 테이블이다.\n",
    "- SELECT ~ FROM ~ 의 형식을 갖추기 위한 일종의 DUMMY 테이블이다.\n",
    "- DUMMY라는 문자열 유형의 칼럼에 'X'라는 값이 들어 있는 행을 1건 포함하고 있다.\n",
    "\n",
    "예시 : SELECT LENGTH('SQL Expert') FROM DUAL;"
   ]
  },
  {
   "cell_type": "markdown",
   "metadata": {},
   "source": [
    "### 1-2 숫자형 함수\n",
    "- ABS() : 숫자의 절댓값을 리턴한다.\n",
    "- SIGN() : 숫자가 양수인지, 음수인지, 0인지 구별한다.\n",
    "- MOD(숫자1, 숫자2) : 숫자1을 숫자2로 나누어 나머지 값을 리턴한다. (연산자 %로 대체 가능하다)\n",
    "- CEIL() : 숫자보다 크거나 같은 최소 정수를 리턴한다.\n",
    "- FLOOR() : 숫자보다 작거나 같은 최대 정수를 리턴한다.\n",
    "- ROUND(숫자, m) : 숫자를 반올림하여 m자리까지 리턴하며 m이 생략되면 디폴트값은 0이다.\n",
    "- TRUNC(숫자, m) : 숫자를 소수 m자리 이후를 잘라서 버린다. m이 생략되면 디폴트값은 0이다.\n",
    "- SIN(), COS(), TAN() : 숫자의 삼각함수 값을 리턴한다.\n",
    "- EXP(), POWER(), SQRT(), LOG(), LN() : 숫자의 지수, 거듭제곱, 제곱근, 자연로그값을 리턴한다."
   ]
  },
  {
   "cell_type": "markdown",
   "metadata": {},
   "source": [
    "### 1-3 날짜형 함수\n",
    "\n",
    "- SYSDATE : 현재 날짜와 시각을 출력한다.\n",
    "- EXTRACT('YEAR'|'MONTH'|'DAY' from d) : 날짜 데이터에서 년/월/일, 시간/분/초 데이터를 출력할 수 있다.\n",
    "- TO_NUMBER(TO_CHAR(d,'YYYY'|'MM'|'DD')) : TO_NUMBER 함수 제외시 문자형으로 출력되며 날짜 데이터에서 년/월/일 데이터를 출력할 수 있다.\n",
    "\n",
    "✅ 데이터베이스는 날짜를 숫자로 저장하기 때문에 덧셈, 뺄셈 같은 산술 연산자로도 계산이 가능하다.\n",
    "\n",
    "- 날짜 + 숫자 : 날짜 → 숫자만큼 날수를 날짜에 더한다.\n",
    "- 날짜 - 숫자 : 날짜 → 숫자만큼 날수를 날짜에서 뺀다.\n",
    "- 날짜1 - 날짜2 : 날짜 수 → 날짜2에서 날짜1을 뺀 일수가 나온다.\n",
    "- 날짜 + 숫자/24 : 날짜 → 시간을 날짜에 더한다."
   ]
  },
  {
   "cell_type": "markdown",
   "metadata": {},
   "source": [
    "### 1-4 변환형 함수\n",
    "변환형 함수는 특정 데이터 타입을 다양한 형식으로 출력하고 싶을 경우에 사용되는 함수이다.\n",
    "\n",
    "- 명시적(Explicit) 데이터 유형 변환 : 데이터 변환형 함수로 데이터 유형을 변환하도록 명시해 주는 경우\n",
    "- 암시적(Implicit) 데이터 유형 변환 : 데이터베이스가 자동으로 데이터 유형을 변환하여 계산하는 경우\n",
    "\n",
    "✅ 암시적 데이터 유형 변환의 경우 성능 저하가 발생할 수 있으며, 자동적으로 계산하지 않는 경우가 있다. → 명시적 변환 사용이 바람직하다.\n",
    "\n",
    "- TO_NUMBER(문자열) : alpha numeric 문자열을 숫자로 변환한다. (숫자이나 '문자열' dtype인 경우)\n",
    "- TO_CHAR(숫자|날짜, FORMAT) : 숫자나 날짜를 주어진 FORMAT 형태의 문자열 타입으로 변환한다.\n",
    "- TO_DATE(문자열, FORMAT) : 문자열을 주어진 FORMAT 형태의 날짜 타입으로 변환한다."
   ]
  },
  {
   "cell_type": "markdown",
   "metadata": {},
   "source": [
    "### 1-5 NULL관련 함수\n",
    "이 함수들을 유용하게 사용하는 예는 산술적인 계산에서 데이터 값이 NULL일 경우이다.\n",
    "\n",
    "(NULL값이 존재하면 연산 결과가 NULL값이 되므로 원하는 결과를 얻을 수 없을 수 있기 때문에)\n",
    "\n",
    "- NVL(표현식1, 표현식2) : 표현식1의 결과값이 NULL이면 표현식2의 값을 출력한다. 단 표현식1과 표현식2의 결과데이터 타입이 같아야 한다.\n",
    "- NULLIF(표현식1, 표현식2) : 두 표현식이 같으면 NULL을 같지 않으면 표현식1을 리턴한다.\n",
    "- COALESCE(표현식1, 표현식2, ...) : 임의의 개수 표현식에서 NULL이 아닌 최초의 표현식을 나타내며 모든 표현식이 NULL이라면 NULL 리턴한다."
   ]
  },
  {
   "cell_type": "markdown",
   "metadata": {},
   "source": [
    "## CASE표현\n",
    "CASE 표현은 IF-THEN-ELSE 논리와 유사한 방식으로 표현식을 작성해서 SQL의 비교 연산 기능을 보완하는 역할을 수행\n",
    "\n",
    "함수의 성질을 가지고 있으므로 다른 함수처럼 중첩해서 사용할 수 있다."
   ]
  },
  {
   "cell_type": "code",
   "execution_count": null,
   "metadata": {},
   "outputs": [],
   "source": [
    "# 1. SIMPLE CASE\n",
    "SELECT X\n",
    "    CASE X\n",
    "    WHEN 'X' THEN 'SAME'\n",
    "    WHEN 'Y' THEN 'NOT SAME'\n",
    "    WHEN 'Z' THEN 'NOT SAME'\n",
    "    ELSE ' WRONG'\n",
    "    END\n",
    "FROM TABLE;"
   ]
  },
  {
   "cell_type": "markdown",
   "metadata": {},
   "source": [
    "SIMPLE CASE EXPRESSION은 CASE 다음에 바로 조건에 사용되는 칼럼이나 표현식을 표시한다.\n",
    "\n",
    "다음 WHEN 절에서 앞에서 정의한 칼럼이나 표현식과 같은지 아닌지 판단하는 문장이다.\n",
    "\n",
    "END 이후 ALIAS 를 활용하면 결과가 리턴되는 칼럼의 이름 설정 가능!"
   ]
  },
  {
   "cell_type": "code",
   "execution_count": null,
   "metadata": {},
   "outputs": [],
   "source": [
    "# 2. SEARCHED CASE\n",
    "SELECT COLUMN\n",
    "    CASE WHEN X >= 3000 THEN 'HIGH'\n",
    "        WHEN X >= 1000 THEN 'MID'\n",
    "        ELSE 'LOW'\n",
    "    END\n",
    "FROM TABLE;"
   ]
  },
  {
   "cell_type": "markdown",
   "metadata": {},
   "source": [
    "SEARCHED CASE EXPRESSION은 CASE 다음에 칼럼이나 표현식을 표시하지 않는다.\n",
    "\n",
    "다음 WHEN 절에서 '='조건을 포함한 여러 조건을 활용한 조건절을 사용할 수 있어 더 다양한 조건을 적용할 수 있다."
   ]
  }
 ],
 "metadata": {
  "kernelspec": {
   "display_name": "Python 3",
   "language": "python",
   "name": "python3"
  },
  "language_info": {
   "codemirror_mode": {
    "name": "ipython",
    "version": 3
   },
   "file_extension": ".py",
   "mimetype": "text/x-python",
   "name": "python",
   "nbconvert_exporter": "python",
   "pygments_lexer": "ipython3",
   "version": "3.8.5"
  }
 },
 "nbformat": 4,
 "nbformat_minor": 4
}
