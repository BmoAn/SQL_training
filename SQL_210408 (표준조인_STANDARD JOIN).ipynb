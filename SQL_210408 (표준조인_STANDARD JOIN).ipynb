{
 "cells": [
  {
   "cell_type": "markdown",
   "metadata": {},
   "source": [
    "# 표준SQL (STANDARD SQL)\n",
    "DBMS 벤더 별로 문법이나 사용되는 용어의 차이가 너무 커져서 상호 호환성이나 SQL 학습 효율이 많이 부족한 문제가 발생하였다.\n",
    "\n",
    "이에 향후 SQL에서 필요한 기능을 정리하고 호환 가능한 여러 기준을 제정하였고,\n",
    "\n",
    "상호 벤치마킹하고 발전하면서 DBMS간에 평준화를 이루어가고 있다."
   ]
  },
  {
   "cell_type": "markdown",
   "metadata": {},
   "source": [
    "---\n",
    "## 표준조인 (STANDARD JOIN)\n",
    "ANSI/ISO SQL에서 규정한 JOIN문법은  WHEREE 절을 사용하던 기존 JOIN방식과 차이가 있다.\n",
    "\n",
    "사용자는 기존 WHERE절의 검색 조건과 테이블 간의 JOIN조건을 구번 없이 사용하던 방식을 그대로 사용할 수 있으면서,\n",
    "\n",
    "추가된 선택 기능으로 테이블 간의 JOIN조건을 FROM절에서 명시적으로 정의할 수 있게 되었다."
   ]
  },
  {
   "cell_type": "markdown",
   "metadata": {},
   "source": [
    "### 1. INNER JOIN\n",
    "\n",
    "INNER JOIN은 내부 JOIN이라고 하며, JOIN조건에서 동일한 값이 있는 행만 반환한다.\n",
    "\n",
    "USING 조건절이나 ON 조건절을 필수적으로 사용해야 하며 INNER는 JOIN의 디폴트 옵션으로 생략이 가능하다."
   ]
  },
  {
   "cell_type": "code",
   "execution_count": null,
   "metadata": {},
   "outputs": [],
   "source": [
    "SELECT DEPTNO, EMPNO, ENAME, DNAME\n",
    "FROM EMP JOIN DEPT\n",
    "ON EMP.DEPTNO = DEPT.DEPTNO;"
   ]
  },
  {
   "cell_type": "markdown",
   "metadata": {},
   "source": [
    "### 2. NATURAL JOIN\n",
    "\n",
    "NATURAL JOIN은 두 테이블 간의 동일한 이름을 갖는 모든 칼럼들에 대해 EQUI JOIN을 수행한다.\n",
    "\n",
    "NATURAL JOIN이 명시되면 추가로 USING 조건절, ON조건절 WHERE 절에서 JOIN조건을 명시할 수 없다.\n",
    "\n",
    "＊SQL Server에서는 지원하지 않는 기능이다."
   ]
  },
  {
   "cell_type": "code",
   "execution_count": null,
   "metadata": {},
   "outputs": [],
   "source": [
    "SELECT DEPTNO, EMPNO, ENAME, DNAME\n",
    "FROM EMP NATURAL JOIN DEPT;"
   ]
  },
  {
   "cell_type": "markdown",
   "metadata": {},
   "source": [
    "- JOIN에 사용된 칼럼들은 같은 데이터 유형이어야 하며 ALIAS나 테이블명 같은 접두사를 붙일 수 없다.\n",
    "- 와일드카드 '＊'처럼 별도의 칼럼순서를 지정하지 않으면 JOIN의 기준이 되는 칼럼들이 다른 칼럼보다 먼저 출력된다.\n",
    "\n",
    "    → NATURAL JOIN은 JOIN에 사용된 같은 이름의 칼럼을 '하나'로 처리한다.\n",
    "    \n",
    "    → INNER JOIN의 경우 테이블의 칼럼 순서대로 데이터가 출력되며 같은 이름의 칼럼을 별개의 칼럼으로 표시된다."
   ]
  },
  {
   "cell_type": "markdown",
   "metadata": {},
   "source": [
    "### 3. USING 조건절\n",
    "NATURAL JOIN에서는 모든 일치되는 칼럼들에 대해JOIN이 이루어지지만,\n",
    "\n",
    "FROM절의 USING조건을 이용하면 같은 이름을 가진 칼럼들 중에서 원하는 칼럼들에 대해서만 선택적으로 EQUI JOIN을 할 수 있다.\n",
    "\n",
    "＊ SQL Server에서는 지원하지 않는 기능이다."
   ]
  },
  {
   "cell_type": "code",
   "execution_count": null,
   "metadata": {},
   "outputs": [],
   "source": [
    "SELECT DEPTNO, EMPNO, ENAME, DNAME\n",
    "FROM EMP NATURAL JOIN DEPT;"
   ]
  },
  {
   "cell_type": "markdown",
   "metadata": {},
   "source": [
    "- SQL의 '＊' 와일드 카드처럼 별도의 칼럼 순서를 지정하지 않으면  JOIN의 기분이 되는 칼럼이 다른 칼럼보다 먼저 출력된다.\n",
    "\n",
    "    →JOIN에 사용된 같은 이름의 칼럼을 하나로 처리하며, 나머지 칼럼은 각각 별도로 출력된다.\n",
    "\n",
    "- JOIN 칼럼에 대해서는 ALIAS나 테이블명 같은 접두사를 붙일 수 없다."
   ]
  },
  {
   "cell_type": "markdown",
   "metadata": {},
   "source": [
    "### 4. ON 조건절\n",
    "JOIN 서술부(ON 조건절)와 비 JOIN 서술부(WHERE 조건절)를 분리하여 이해\n",
    "\n",
    "    → ON 조건절와 WHERE 검색 조건은 충돌 없이 사용할 수 있다.\n",
    "\n",
    "NATURAL JOIN의 JOIN 조건은 기본적으로 같은 이름을 가진 모든 칼럼들에 대한 동등 조건이지만,\n",
    "\n",
    "1. 임의의 JOIN 조건을 지정하거나 \n",
    "\n",
    "2. 이름이 다른 칼럼명을 JOIN 조건으로 사용하거나\n",
    "\n",
    "3. JOIN 칼럼을 명시하기 위해서 사용\n"
   ]
  },
  {
   "cell_type": "code",
   "execution_count": null,
   "metadata": {},
   "outputs": [],
   "source": [
    "SELECT E.EMPNO, E.ENAME, E.DEPTNO, D.DNAME\n",
    "FROM EMP E JOIN DEPT D\n",
    "ON (E.DEPTNO = D.DEPTNO);\n",
    "\n",
    "# ON 조건절에 사용된 괄호는 선택사항이다."
   ]
  },
  {
   "cell_type": "markdown",
   "metadata": {},
   "source": [
    "ON 조건절을 사용한 JOIN은 ALIAS나 테이블 명과 같은 접두사를 사용할 수 있지만,\n",
    "\n",
    "FROM 절에 테이블이 많이 사용될 경우 가독성이 떨어지는 단점이 있다."
   ]
  },
  {
   "cell_type": "markdown",
   "metadata": {},
   "source": [
    "### 5. CROSS JOIN\n",
    "테이블 간 JOIN조건이 없는 경우 생길 수 있는 모든 데이터의 조합\n",
    "\n",
    "양쪽 집합의 M＊N건의 데이터 조합이 발생한다.\n",
    "\n",
    "CROSS JOIN의 경우 WHERE절에 JOIN 조건을 추가할 수 있으나 그럴 경우 INNER JOIN과 같은 결과를 얻기 때문에 권고하지 않는다."
   ]
  },
  {
   "cell_type": "markdown",
   "metadata": {},
   "source": [
    "### 6.OUTER JOIN\n",
    "INNER JOIN과 대비하여 OUTER JOIN이라고 불리며 JOIN조건에서 동일한 값이 없는 행도 반환할 때 사용할 수 있다.\n",
    "\n",
    "#### 6-1 LEFT OUTER JOIN (LEFT JOIN)\n",
    "JOIN 수행 시 먼저 표기된 좌측 테이블에 해당하는 데이터를 먼저 읽은 후, 나중 표기된 우측 테이블에서 JOIN 대상 데이터를 읽어온다.\n",
    "\n",
    "우측 JOIN칼럼에서 같은 값이 없는 경우에는 NULL값으로 채워 가져온다.\n",
    "\n",
    "#### 6-2 RIGHT OUTER JOIN (RIGHT JOIN)\n",
    "LEFT 조인과 반대로 작동된다. 좌측 JOIN 칼럼에서 같은 값이 없는 경우에 NULL값으로 채워 가져온다.\n",
    "\n",
    "#### 6-3 FULL OUTET JOIN (FULL JOIN)\n",
    "RIGHT JOIN과 LEFT JOIN의 합집합의 결과를 출력한다. (UNOIN ALL이 아닌 UNION과 동일한 결과)"
   ]
  }
 ],
 "metadata": {
  "kernelspec": {
   "display_name": "Python 3",
   "language": "python",
   "name": "python3"
  },
  "language_info": {
   "codemirror_mode": {
    "name": "ipython",
    "version": 3
   },
   "file_extension": ".py",
   "mimetype": "text/x-python",
   "name": "python",
   "nbconvert_exporter": "python",
   "pygments_lexer": "ipython3",
   "version": "3.8.5"
  }
 },
 "nbformat": 4,
 "nbformat_minor": 4
}
